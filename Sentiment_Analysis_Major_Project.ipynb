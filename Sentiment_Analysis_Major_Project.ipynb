{
  "nbformat": 4,
  "nbformat_minor": 0,
  "metadata": {
    "colab": {
      "name": "Sentiment_Analysis_Major_Project.ipynb",
      "provenance": [],
      "collapsed_sections": []
    },
    "kernelspec": {
      "name": "python3",
      "display_name": "Python 3"
    }
  },
  "cells": [
    {
      "cell_type": "markdown",
      "metadata": {
        "id": "view-in-github"
      },
      "source": [
        "<a href=\"https://colab.research.google.com/github/vp1099/Sentiment_Analysis_Heroku_Streamlit/blob/main/Sentiment_Analysis_Major_Project.ipynb\" target=\"_parent\"><img src=\"https://colab.research.google.com/assets/colab-badge.svg\" alt=\"Open In Colab\"/></a>"
      ]
    },
    {
      "cell_type": "code",
      "metadata": {
        "id": "Oo7_InVVz5gD",
        "colab": {
          "base_uri": "https://localhost:8080/",
          "height": 206
        },
        "outputId": "66079a08-504f-4c4d-86e6-5f70f6423ad9"
      },
      "source": [
        "import pandas as pd\n",
        "import numpy\n",
        "df = pd.read_csv('Restaurant_Reviews.tsv',sep='\\t')\n",
        "df.head()"
      ],
      "execution_count": 70,
      "outputs": [
        {
          "output_type": "execute_result",
          "data": {
            "text/html": [
              "\n",
              "  <div id=\"df-4f3cf718-cfb7-4bed-af24-7ae25ee6eee5\">\n",
              "    <div class=\"colab-df-container\">\n",
              "      <div>\n",
              "<style scoped>\n",
              "    .dataframe tbody tr th:only-of-type {\n",
              "        vertical-align: middle;\n",
              "    }\n",
              "\n",
              "    .dataframe tbody tr th {\n",
              "        vertical-align: top;\n",
              "    }\n",
              "\n",
              "    .dataframe thead th {\n",
              "        text-align: right;\n",
              "    }\n",
              "</style>\n",
              "<table border=\"1\" class=\"dataframe\">\n",
              "  <thead>\n",
              "    <tr style=\"text-align: right;\">\n",
              "      <th></th>\n",
              "      <th>Review</th>\n",
              "      <th>Liked</th>\n",
              "    </tr>\n",
              "  </thead>\n",
              "  <tbody>\n",
              "    <tr>\n",
              "      <th>0</th>\n",
              "      <td>Wow... Loved this place.</td>\n",
              "      <td>1</td>\n",
              "    </tr>\n",
              "    <tr>\n",
              "      <th>1</th>\n",
              "      <td>Crust is not good.</td>\n",
              "      <td>0</td>\n",
              "    </tr>\n",
              "    <tr>\n",
              "      <th>2</th>\n",
              "      <td>Not tasty and the texture was just nasty.</td>\n",
              "      <td>0</td>\n",
              "    </tr>\n",
              "    <tr>\n",
              "      <th>3</th>\n",
              "      <td>Stopped by during the late May bank holiday of...</td>\n",
              "      <td>1</td>\n",
              "    </tr>\n",
              "    <tr>\n",
              "      <th>4</th>\n",
              "      <td>The selection on the menu was great and so wer...</td>\n",
              "      <td>1</td>\n",
              "    </tr>\n",
              "  </tbody>\n",
              "</table>\n",
              "</div>\n",
              "      <button class=\"colab-df-convert\" onclick=\"convertToInteractive('df-4f3cf718-cfb7-4bed-af24-7ae25ee6eee5')\"\n",
              "              title=\"Convert this dataframe to an interactive table.\"\n",
              "              style=\"display:none;\">\n",
              "        \n",
              "  <svg xmlns=\"http://www.w3.org/2000/svg\" height=\"24px\"viewBox=\"0 0 24 24\"\n",
              "       width=\"24px\">\n",
              "    <path d=\"M0 0h24v24H0V0z\" fill=\"none\"/>\n",
              "    <path d=\"M18.56 5.44l.94 2.06.94-2.06 2.06-.94-2.06-.94-.94-2.06-.94 2.06-2.06.94zm-11 1L8.5 8.5l.94-2.06 2.06-.94-2.06-.94L8.5 2.5l-.94 2.06-2.06.94zm10 10l.94 2.06.94-2.06 2.06-.94-2.06-.94-.94-2.06-.94 2.06-2.06.94z\"/><path d=\"M17.41 7.96l-1.37-1.37c-.4-.4-.92-.59-1.43-.59-.52 0-1.04.2-1.43.59L10.3 9.45l-7.72 7.72c-.78.78-.78 2.05 0 2.83L4 21.41c.39.39.9.59 1.41.59.51 0 1.02-.2 1.41-.59l7.78-7.78 2.81-2.81c.8-.78.8-2.07 0-2.86zM5.41 20L4 18.59l7.72-7.72 1.47 1.35L5.41 20z\"/>\n",
              "  </svg>\n",
              "      </button>\n",
              "      \n",
              "  <style>\n",
              "    .colab-df-container {\n",
              "      display:flex;\n",
              "      flex-wrap:wrap;\n",
              "      gap: 12px;\n",
              "    }\n",
              "\n",
              "    .colab-df-convert {\n",
              "      background-color: #E8F0FE;\n",
              "      border: none;\n",
              "      border-radius: 50%;\n",
              "      cursor: pointer;\n",
              "      display: none;\n",
              "      fill: #1967D2;\n",
              "      height: 32px;\n",
              "      padding: 0 0 0 0;\n",
              "      width: 32px;\n",
              "    }\n",
              "\n",
              "    .colab-df-convert:hover {\n",
              "      background-color: #E2EBFA;\n",
              "      box-shadow: 0px 1px 2px rgba(60, 64, 67, 0.3), 0px 1px 3px 1px rgba(60, 64, 67, 0.15);\n",
              "      fill: #174EA6;\n",
              "    }\n",
              "\n",
              "    [theme=dark] .colab-df-convert {\n",
              "      background-color: #3B4455;\n",
              "      fill: #D2E3FC;\n",
              "    }\n",
              "\n",
              "    [theme=dark] .colab-df-convert:hover {\n",
              "      background-color: #434B5C;\n",
              "      box-shadow: 0px 1px 3px 1px rgba(0, 0, 0, 0.15);\n",
              "      filter: drop-shadow(0px 1px 2px rgba(0, 0, 0, 0.3));\n",
              "      fill: #FFFFFF;\n",
              "    }\n",
              "  </style>\n",
              "\n",
              "      <script>\n",
              "        const buttonEl =\n",
              "          document.querySelector('#df-4f3cf718-cfb7-4bed-af24-7ae25ee6eee5 button.colab-df-convert');\n",
              "        buttonEl.style.display =\n",
              "          google.colab.kernel.accessAllowed ? 'block' : 'none';\n",
              "\n",
              "        async function convertToInteractive(key) {\n",
              "          const element = document.querySelector('#df-4f3cf718-cfb7-4bed-af24-7ae25ee6eee5');\n",
              "          const dataTable =\n",
              "            await google.colab.kernel.invokeFunction('convertToInteractive',\n",
              "                                                     [key], {});\n",
              "          if (!dataTable) return;\n",
              "\n",
              "          const docLinkHtml = 'Like what you see? Visit the ' +\n",
              "            '<a target=\"_blank\" href=https://colab.research.google.com/notebooks/data_table.ipynb>data table notebook</a>'\n",
              "            + ' to learn more about interactive tables.';\n",
              "          element.innerHTML = '';\n",
              "          dataTable['output_type'] = 'display_data';\n",
              "          await google.colab.output.renderOutput(dataTable, element);\n",
              "          const docLink = document.createElement('div');\n",
              "          docLink.innerHTML = docLinkHtml;\n",
              "          element.appendChild(docLink);\n",
              "        }\n",
              "      </script>\n",
              "    </div>\n",
              "  </div>\n",
              "  "
            ],
            "text/plain": [
              "                                              Review  Liked\n",
              "0                           Wow... Loved this place.      1\n",
              "1                                 Crust is not good.      0\n",
              "2          Not tasty and the texture was just nasty.      0\n",
              "3  Stopped by during the late May bank holiday of...      1\n",
              "4  The selection on the menu was great and so wer...      1"
            ]
          },
          "metadata": {},
          "execution_count": 70
        }
      ]
    },
    {
      "cell_type": "code",
      "metadata": {
        "id": "HNqUKUB00OIU"
      },
      "source": [
        "#importing all the required libraries\n",
        "import nltk\n",
        "from nltk.corpus import stopwords\n",
        "from nltk.tokenize import word_tokenize,sent_tokenize\n",
        "from nltk.stem import WordNetLemmatizer\n",
        "from nltk import tokenize"
      ],
      "execution_count": 71,
      "outputs": []
    },
    {
      "cell_type": "code",
      "metadata": {
        "id": "5DaUZ0DB1vsK",
        "colab": {
          "base_uri": "https://localhost:8080/",
          "height": 424
        },
        "outputId": "e3539c6e-6e78-4f22-dea5-19b2fca62468"
      },
      "source": [
        "#converting the reviews into lower case\n",
        "#df.Review=df.Review.apply(lambda x: x.lower())\n",
        "df\n"
      ],
      "execution_count": 72,
      "outputs": [
        {
          "output_type": "execute_result",
          "data": {
            "text/html": [
              "\n",
              "  <div id=\"df-6e6fa6ef-bd72-4b4e-ade1-d60251f01b6e\">\n",
              "    <div class=\"colab-df-container\">\n",
              "      <div>\n",
              "<style scoped>\n",
              "    .dataframe tbody tr th:only-of-type {\n",
              "        vertical-align: middle;\n",
              "    }\n",
              "\n",
              "    .dataframe tbody tr th {\n",
              "        vertical-align: top;\n",
              "    }\n",
              "\n",
              "    .dataframe thead th {\n",
              "        text-align: right;\n",
              "    }\n",
              "</style>\n",
              "<table border=\"1\" class=\"dataframe\">\n",
              "  <thead>\n",
              "    <tr style=\"text-align: right;\">\n",
              "      <th></th>\n",
              "      <th>Review</th>\n",
              "      <th>Liked</th>\n",
              "    </tr>\n",
              "  </thead>\n",
              "  <tbody>\n",
              "    <tr>\n",
              "      <th>0</th>\n",
              "      <td>Wow... Loved this place.</td>\n",
              "      <td>1</td>\n",
              "    </tr>\n",
              "    <tr>\n",
              "      <th>1</th>\n",
              "      <td>Crust is not good.</td>\n",
              "      <td>0</td>\n",
              "    </tr>\n",
              "    <tr>\n",
              "      <th>2</th>\n",
              "      <td>Not tasty and the texture was just nasty.</td>\n",
              "      <td>0</td>\n",
              "    </tr>\n",
              "    <tr>\n",
              "      <th>3</th>\n",
              "      <td>Stopped by during the late May bank holiday of...</td>\n",
              "      <td>1</td>\n",
              "    </tr>\n",
              "    <tr>\n",
              "      <th>4</th>\n",
              "      <td>The selection on the menu was great and so wer...</td>\n",
              "      <td>1</td>\n",
              "    </tr>\n",
              "    <tr>\n",
              "      <th>...</th>\n",
              "      <td>...</td>\n",
              "      <td>...</td>\n",
              "    </tr>\n",
              "    <tr>\n",
              "      <th>995</th>\n",
              "      <td>I think food should have flavor and texture an...</td>\n",
              "      <td>0</td>\n",
              "    </tr>\n",
              "    <tr>\n",
              "      <th>996</th>\n",
              "      <td>Appetite instantly gone.</td>\n",
              "      <td>0</td>\n",
              "    </tr>\n",
              "    <tr>\n",
              "      <th>997</th>\n",
              "      <td>Overall I was not impressed and would not go b...</td>\n",
              "      <td>0</td>\n",
              "    </tr>\n",
              "    <tr>\n",
              "      <th>998</th>\n",
              "      <td>The whole experience was underwhelming, and I ...</td>\n",
              "      <td>0</td>\n",
              "    </tr>\n",
              "    <tr>\n",
              "      <th>999</th>\n",
              "      <td>Then, as if I hadn't wasted enough of my life ...</td>\n",
              "      <td>0</td>\n",
              "    </tr>\n",
              "  </tbody>\n",
              "</table>\n",
              "<p>1000 rows × 2 columns</p>\n",
              "</div>\n",
              "      <button class=\"colab-df-convert\" onclick=\"convertToInteractive('df-6e6fa6ef-bd72-4b4e-ade1-d60251f01b6e')\"\n",
              "              title=\"Convert this dataframe to an interactive table.\"\n",
              "              style=\"display:none;\">\n",
              "        \n",
              "  <svg xmlns=\"http://www.w3.org/2000/svg\" height=\"24px\"viewBox=\"0 0 24 24\"\n",
              "       width=\"24px\">\n",
              "    <path d=\"M0 0h24v24H0V0z\" fill=\"none\"/>\n",
              "    <path d=\"M18.56 5.44l.94 2.06.94-2.06 2.06-.94-2.06-.94-.94-2.06-.94 2.06-2.06.94zm-11 1L8.5 8.5l.94-2.06 2.06-.94-2.06-.94L8.5 2.5l-.94 2.06-2.06.94zm10 10l.94 2.06.94-2.06 2.06-.94-2.06-.94-.94-2.06-.94 2.06-2.06.94z\"/><path d=\"M17.41 7.96l-1.37-1.37c-.4-.4-.92-.59-1.43-.59-.52 0-1.04.2-1.43.59L10.3 9.45l-7.72 7.72c-.78.78-.78 2.05 0 2.83L4 21.41c.39.39.9.59 1.41.59.51 0 1.02-.2 1.41-.59l7.78-7.78 2.81-2.81c.8-.78.8-2.07 0-2.86zM5.41 20L4 18.59l7.72-7.72 1.47 1.35L5.41 20z\"/>\n",
              "  </svg>\n",
              "      </button>\n",
              "      \n",
              "  <style>\n",
              "    .colab-df-container {\n",
              "      display:flex;\n",
              "      flex-wrap:wrap;\n",
              "      gap: 12px;\n",
              "    }\n",
              "\n",
              "    .colab-df-convert {\n",
              "      background-color: #E8F0FE;\n",
              "      border: none;\n",
              "      border-radius: 50%;\n",
              "      cursor: pointer;\n",
              "      display: none;\n",
              "      fill: #1967D2;\n",
              "      height: 32px;\n",
              "      padding: 0 0 0 0;\n",
              "      width: 32px;\n",
              "    }\n",
              "\n",
              "    .colab-df-convert:hover {\n",
              "      background-color: #E2EBFA;\n",
              "      box-shadow: 0px 1px 2px rgba(60, 64, 67, 0.3), 0px 1px 3px 1px rgba(60, 64, 67, 0.15);\n",
              "      fill: #174EA6;\n",
              "    }\n",
              "\n",
              "    [theme=dark] .colab-df-convert {\n",
              "      background-color: #3B4455;\n",
              "      fill: #D2E3FC;\n",
              "    }\n",
              "\n",
              "    [theme=dark] .colab-df-convert:hover {\n",
              "      background-color: #434B5C;\n",
              "      box-shadow: 0px 1px 3px 1px rgba(0, 0, 0, 0.15);\n",
              "      filter: drop-shadow(0px 1px 2px rgba(0, 0, 0, 0.3));\n",
              "      fill: #FFFFFF;\n",
              "    }\n",
              "  </style>\n",
              "\n",
              "      <script>\n",
              "        const buttonEl =\n",
              "          document.querySelector('#df-6e6fa6ef-bd72-4b4e-ade1-d60251f01b6e button.colab-df-convert');\n",
              "        buttonEl.style.display =\n",
              "          google.colab.kernel.accessAllowed ? 'block' : 'none';\n",
              "\n",
              "        async function convertToInteractive(key) {\n",
              "          const element = document.querySelector('#df-6e6fa6ef-bd72-4b4e-ade1-d60251f01b6e');\n",
              "          const dataTable =\n",
              "            await google.colab.kernel.invokeFunction('convertToInteractive',\n",
              "                                                     [key], {});\n",
              "          if (!dataTable) return;\n",
              "\n",
              "          const docLinkHtml = 'Like what you see? Visit the ' +\n",
              "            '<a target=\"_blank\" href=https://colab.research.google.com/notebooks/data_table.ipynb>data table notebook</a>'\n",
              "            + ' to learn more about interactive tables.';\n",
              "          element.innerHTML = '';\n",
              "          dataTable['output_type'] = 'display_data';\n",
              "          await google.colab.output.renderOutput(dataTable, element);\n",
              "          const docLink = document.createElement('div');\n",
              "          docLink.innerHTML = docLinkHtml;\n",
              "          element.appendChild(docLink);\n",
              "        }\n",
              "      </script>\n",
              "    </div>\n",
              "  </div>\n",
              "  "
            ],
            "text/plain": [
              "                                                Review  Liked\n",
              "0                             Wow... Loved this place.      1\n",
              "1                                   Crust is not good.      0\n",
              "2            Not tasty and the texture was just nasty.      0\n",
              "3    Stopped by during the late May bank holiday of...      1\n",
              "4    The selection on the menu was great and so wer...      1\n",
              "..                                                 ...    ...\n",
              "995  I think food should have flavor and texture an...      0\n",
              "996                           Appetite instantly gone.      0\n",
              "997  Overall I was not impressed and would not go b...      0\n",
              "998  The whole experience was underwhelming, and I ...      0\n",
              "999  Then, as if I hadn't wasted enough of my life ...      0\n",
              "\n",
              "[1000 rows x 2 columns]"
            ]
          },
          "metadata": {},
          "execution_count": 72
        }
      ]
    },
    {
      "cell_type": "code",
      "metadata": {
        "id": "g_Uy3N8d4R9J",
        "colab": {
          "base_uri": "https://localhost:8080/"
        },
        "outputId": "ff46a529-438a-4958-d349-345e13743e55"
      },
      "source": [
        "!pip install contractions"
      ],
      "execution_count": 73,
      "outputs": [
        {
          "output_type": "stream",
          "name": "stdout",
          "text": [
            "Requirement already satisfied: contractions in /usr/local/lib/python3.7/dist-packages (0.1.66)\n",
            "Requirement already satisfied: textsearch>=0.0.21 in /usr/local/lib/python3.7/dist-packages (from contractions) (0.0.21)\n",
            "Requirement already satisfied: anyascii in /usr/local/lib/python3.7/dist-packages (from textsearch>=0.0.21->contractions) (0.3.0)\n",
            "Requirement already satisfied: pyahocorasick in /usr/local/lib/python3.7/dist-packages (from textsearch>=0.0.21->contractions) (1.4.2)\n"
          ]
        }
      ]
    },
    {
      "cell_type": "code",
      "metadata": {
        "id": "Jzm-VyRE4Z7e"
      },
      "source": [
        "import contractions"
      ],
      "execution_count": 74,
      "outputs": []
    },
    {
      "cell_type": "code",
      "metadata": {
        "id": "kge0_15b3Niw",
        "colab": {
          "base_uri": "https://localhost:8080/",
          "height": 35
        },
        "outputId": "b765358d-ddba-423e-ce86-c9ad752065d4"
      },
      "source": [
        "# Expanding contractions\n",
        "def con(text):\n",
        "  expand=contractions.fix(text)\n",
        "  return expand\n",
        "\n",
        "df.Review=df.Review.apply(con)\n",
        "df['Review'][0]"
      ],
      "execution_count": 75,
      "outputs": [
        {
          "output_type": "execute_result",
          "data": {
            "application/vnd.google.colaboratory.intrinsic+json": {
              "type": "string"
            },
            "text/plain": [
              "'Wow... Loved this place.'"
            ]
          },
          "metadata": {},
          "execution_count": 75
        }
      ]
    },
    {
      "cell_type": "code",
      "metadata": {
        "id": "-ptOhioF4gVS",
        "colab": {
          "base_uri": "https://localhost:8080/",
          "height": 424
        },
        "outputId": "5fbee075-ce58-4eb6-c04f-be8ed96a523f"
      },
      "source": [
        "import re\n",
        "\n",
        "def remove_sp(text):\n",
        "  pattern=r'[^A-Za-z0-9\\s]'\n",
        "  text=re.sub(pattern,'',text)\n",
        "  return text\n",
        "\n",
        "df.Review=df.Review.apply(remove_sp)\n",
        "df"
      ],
      "execution_count": 76,
      "outputs": [
        {
          "output_type": "execute_result",
          "data": {
            "text/html": [
              "\n",
              "  <div id=\"df-36290152-a3d3-47cc-9737-2bd18bf75595\">\n",
              "    <div class=\"colab-df-container\">\n",
              "      <div>\n",
              "<style scoped>\n",
              "    .dataframe tbody tr th:only-of-type {\n",
              "        vertical-align: middle;\n",
              "    }\n",
              "\n",
              "    .dataframe tbody tr th {\n",
              "        vertical-align: top;\n",
              "    }\n",
              "\n",
              "    .dataframe thead th {\n",
              "        text-align: right;\n",
              "    }\n",
              "</style>\n",
              "<table border=\"1\" class=\"dataframe\">\n",
              "  <thead>\n",
              "    <tr style=\"text-align: right;\">\n",
              "      <th></th>\n",
              "      <th>Review</th>\n",
              "      <th>Liked</th>\n",
              "    </tr>\n",
              "  </thead>\n",
              "  <tbody>\n",
              "    <tr>\n",
              "      <th>0</th>\n",
              "      <td>Wow Loved this place</td>\n",
              "      <td>1</td>\n",
              "    </tr>\n",
              "    <tr>\n",
              "      <th>1</th>\n",
              "      <td>Crust is not good</td>\n",
              "      <td>0</td>\n",
              "    </tr>\n",
              "    <tr>\n",
              "      <th>2</th>\n",
              "      <td>Not tasty and the texture was just nasty</td>\n",
              "      <td>0</td>\n",
              "    </tr>\n",
              "    <tr>\n",
              "      <th>3</th>\n",
              "      <td>Stopped by during the late May bank holiday of...</td>\n",
              "      <td>1</td>\n",
              "    </tr>\n",
              "    <tr>\n",
              "      <th>4</th>\n",
              "      <td>The selection on the menu was great and so wer...</td>\n",
              "      <td>1</td>\n",
              "    </tr>\n",
              "    <tr>\n",
              "      <th>...</th>\n",
              "      <td>...</td>\n",
              "      <td>...</td>\n",
              "    </tr>\n",
              "    <tr>\n",
              "      <th>995</th>\n",
              "      <td>I think food should have flavor and texture an...</td>\n",
              "      <td>0</td>\n",
              "    </tr>\n",
              "    <tr>\n",
              "      <th>996</th>\n",
              "      <td>Appetite instantly gone</td>\n",
              "      <td>0</td>\n",
              "    </tr>\n",
              "    <tr>\n",
              "      <th>997</th>\n",
              "      <td>Overall I was not impressed and would not go back</td>\n",
              "      <td>0</td>\n",
              "    </tr>\n",
              "    <tr>\n",
              "      <th>998</th>\n",
              "      <td>The whole experience was underwhelming and I t...</td>\n",
              "      <td>0</td>\n",
              "    </tr>\n",
              "    <tr>\n",
              "      <th>999</th>\n",
              "      <td>Then as if I had not wasted enough of my life ...</td>\n",
              "      <td>0</td>\n",
              "    </tr>\n",
              "  </tbody>\n",
              "</table>\n",
              "<p>1000 rows × 2 columns</p>\n",
              "</div>\n",
              "      <button class=\"colab-df-convert\" onclick=\"convertToInteractive('df-36290152-a3d3-47cc-9737-2bd18bf75595')\"\n",
              "              title=\"Convert this dataframe to an interactive table.\"\n",
              "              style=\"display:none;\">\n",
              "        \n",
              "  <svg xmlns=\"http://www.w3.org/2000/svg\" height=\"24px\"viewBox=\"0 0 24 24\"\n",
              "       width=\"24px\">\n",
              "    <path d=\"M0 0h24v24H0V0z\" fill=\"none\"/>\n",
              "    <path d=\"M18.56 5.44l.94 2.06.94-2.06 2.06-.94-2.06-.94-.94-2.06-.94 2.06-2.06.94zm-11 1L8.5 8.5l.94-2.06 2.06-.94-2.06-.94L8.5 2.5l-.94 2.06-2.06.94zm10 10l.94 2.06.94-2.06 2.06-.94-2.06-.94-.94-2.06-.94 2.06-2.06.94z\"/><path d=\"M17.41 7.96l-1.37-1.37c-.4-.4-.92-.59-1.43-.59-.52 0-1.04.2-1.43.59L10.3 9.45l-7.72 7.72c-.78.78-.78 2.05 0 2.83L4 21.41c.39.39.9.59 1.41.59.51 0 1.02-.2 1.41-.59l7.78-7.78 2.81-2.81c.8-.78.8-2.07 0-2.86zM5.41 20L4 18.59l7.72-7.72 1.47 1.35L5.41 20z\"/>\n",
              "  </svg>\n",
              "      </button>\n",
              "      \n",
              "  <style>\n",
              "    .colab-df-container {\n",
              "      display:flex;\n",
              "      flex-wrap:wrap;\n",
              "      gap: 12px;\n",
              "    }\n",
              "\n",
              "    .colab-df-convert {\n",
              "      background-color: #E8F0FE;\n",
              "      border: none;\n",
              "      border-radius: 50%;\n",
              "      cursor: pointer;\n",
              "      display: none;\n",
              "      fill: #1967D2;\n",
              "      height: 32px;\n",
              "      padding: 0 0 0 0;\n",
              "      width: 32px;\n",
              "    }\n",
              "\n",
              "    .colab-df-convert:hover {\n",
              "      background-color: #E2EBFA;\n",
              "      box-shadow: 0px 1px 2px rgba(60, 64, 67, 0.3), 0px 1px 3px 1px rgba(60, 64, 67, 0.15);\n",
              "      fill: #174EA6;\n",
              "    }\n",
              "\n",
              "    [theme=dark] .colab-df-convert {\n",
              "      background-color: #3B4455;\n",
              "      fill: #D2E3FC;\n",
              "    }\n",
              "\n",
              "    [theme=dark] .colab-df-convert:hover {\n",
              "      background-color: #434B5C;\n",
              "      box-shadow: 0px 1px 3px 1px rgba(0, 0, 0, 0.15);\n",
              "      filter: drop-shadow(0px 1px 2px rgba(0, 0, 0, 0.3));\n",
              "      fill: #FFFFFF;\n",
              "    }\n",
              "  </style>\n",
              "\n",
              "      <script>\n",
              "        const buttonEl =\n",
              "          document.querySelector('#df-36290152-a3d3-47cc-9737-2bd18bf75595 button.colab-df-convert');\n",
              "        buttonEl.style.display =\n",
              "          google.colab.kernel.accessAllowed ? 'block' : 'none';\n",
              "\n",
              "        async function convertToInteractive(key) {\n",
              "          const element = document.querySelector('#df-36290152-a3d3-47cc-9737-2bd18bf75595');\n",
              "          const dataTable =\n",
              "            await google.colab.kernel.invokeFunction('convertToInteractive',\n",
              "                                                     [key], {});\n",
              "          if (!dataTable) return;\n",
              "\n",
              "          const docLinkHtml = 'Like what you see? Visit the ' +\n",
              "            '<a target=\"_blank\" href=https://colab.research.google.com/notebooks/data_table.ipynb>data table notebook</a>'\n",
              "            + ' to learn more about interactive tables.';\n",
              "          element.innerHTML = '';\n",
              "          dataTable['output_type'] = 'display_data';\n",
              "          await google.colab.output.renderOutput(dataTable, element);\n",
              "          const docLink = document.createElement('div');\n",
              "          docLink.innerHTML = docLinkHtml;\n",
              "          element.appendChild(docLink);\n",
              "        }\n",
              "      </script>\n",
              "    </div>\n",
              "  </div>\n",
              "  "
            ],
            "text/plain": [
              "                                                Review  Liked\n",
              "0                                 Wow Loved this place      1\n",
              "1                                    Crust is not good      0\n",
              "2             Not tasty and the texture was just nasty      0\n",
              "3    Stopped by during the late May bank holiday of...      1\n",
              "4    The selection on the menu was great and so wer...      1\n",
              "..                                                 ...    ...\n",
              "995  I think food should have flavor and texture an...      0\n",
              "996                            Appetite instantly gone      0\n",
              "997  Overall I was not impressed and would not go back      0\n",
              "998  The whole experience was underwhelming and I t...      0\n",
              "999  Then as if I had not wasted enough of my life ...      0\n",
              "\n",
              "[1000 rows x 2 columns]"
            ]
          },
          "metadata": {},
          "execution_count": 76
        }
      ]
    },
    {
      "cell_type": "code",
      "metadata": {
        "id": "0TMzky4t5uJx"
      },
      "source": [
        "import string\n",
        "punctuations=list(string.punctuation)"
      ],
      "execution_count": 77,
      "outputs": []
    },
    {
      "cell_type": "code",
      "metadata": {
        "id": "gAVP-5pw597-"
      },
      "source": [
        "df.Review=df.Review.apply(lambda x : \" \".join(x for x in x.split() if x not in punctuations))"
      ],
      "execution_count": 78,
      "outputs": []
    },
    {
      "cell_type": "code",
      "metadata": {
        "id": "RtYAS4cp00cb",
        "colab": {
          "base_uri": "https://localhost:8080/"
        },
        "outputId": "a1a2ef62-5c08-4791-8a1a-3d04a16701fb"
      },
      "source": [
        "# Removing stopwords\n",
        "nltk.download('stopwords')\n",
        "stopword_list=stopwords.words('english')\n"
      ],
      "execution_count": 79,
      "outputs": [
        {
          "output_type": "stream",
          "name": "stdout",
          "text": [
            "[nltk_data] Downloading package stopwords to /root/nltk_data...\n",
            "[nltk_data]   Package stopwords is already up-to-date!\n"
          ]
        }
      ]
    },
    {
      "cell_type": "code",
      "metadata": {
        "id": "mgyp901z1I5t"
      },
      "source": [
        "stopword_list.remove('no')\n",
        "stopword_list.remove('not')\n"
      ],
      "execution_count": 80,
      "outputs": []
    },
    {
      "cell_type": "code",
      "metadata": {
        "id": "bk3XB2xg1SBN",
        "colab": {
          "base_uri": "https://localhost:8080/",
          "height": 35
        },
        "outputId": "94dda377-995d-4338-874d-9036be435d64"
      },
      "source": [
        "df.Review=df.Review.apply(lambda x : \" \".join(x for x in x.split() if x not in stopword_list))\n",
        "df['Review'][5]"
      ],
      "execution_count": 81,
      "outputs": [
        {
          "output_type": "execute_result",
          "data": {
            "application/vnd.google.colaboratory.intrinsic+json": {
              "type": "string"
            },
            "text/plain": [
              "'Now I getting angry I want damn pho'"
            ]
          },
          "metadata": {},
          "execution_count": 81
        }
      ]
    },
    {
      "cell_type": "code",
      "metadata": {
        "id": "RUFQTX2p6cQO"
      },
      "source": [
        "nltk.download('punkt')"
      ],
      "execution_count": null,
      "outputs": []
    },
    {
      "cell_type": "code",
      "metadata": {
        "id": "On5HcPrW84Hy",
        "colab": {
          "base_uri": "https://localhost:8080/"
        },
        "outputId": "a30a4f41-3bbd-4dbe-bc11-eeea33beb523"
      },
      "source": [
        "df['Review']=df.Review.apply(word_tokenize)\n",
        "df['Review'][0]\n"
      ],
      "execution_count": 83,
      "outputs": [
        {
          "output_type": "execute_result",
          "data": {
            "text/plain": [
              "['Wow', 'Loved', 'place']"
            ]
          },
          "metadata": {},
          "execution_count": 83
        }
      ]
    },
    {
      "cell_type": "code",
      "metadata": {
        "id": "22Dm8e8u-Sfy",
        "colab": {
          "base_uri": "https://localhost:8080/"
        },
        "outputId": "0e485230-2a7e-43fe-e5d0-d238956f054e"
      },
      "source": [
        "nltk.download('wordnet')"
      ],
      "execution_count": 84,
      "outputs": [
        {
          "output_type": "stream",
          "name": "stdout",
          "text": [
            "[nltk_data] Downloading package wordnet to /root/nltk_data...\n",
            "[nltk_data]   Package wordnet is already up-to-date!\n"
          ]
        },
        {
          "output_type": "execute_result",
          "data": {
            "text/plain": [
              "True"
            ]
          },
          "metadata": {},
          "execution_count": 84
        }
      ]
    },
    {
      "cell_type": "code",
      "metadata": {
        "id": "MVQL8PSo-_0J"
      },
      "source": [
        "lemmatizer=WordNetLemmatizer()\n"
      ],
      "execution_count": 85,
      "outputs": []
    },
    {
      "cell_type": "code",
      "metadata": {
        "id": "I0w6wG_t_UAw"
      },
      "source": [
        "df['Review']=df.Review.apply(lambda x:[lemmatizer.lemmatize(word) for word in x])"
      ],
      "execution_count": 86,
      "outputs": []
    },
    {
      "cell_type": "code",
      "metadata": {
        "id": "DtrZezLmgB-6",
        "colab": {
          "base_uri": "https://localhost:8080/",
          "height": 424
        },
        "outputId": "fb21fc59-2a4a-4272-f3aa-d85490f19fc6"
      },
      "source": [
        "df\n"
      ],
      "execution_count": 87,
      "outputs": [
        {
          "output_type": "execute_result",
          "data": {
            "text/html": [
              "\n",
              "  <div id=\"df-e6f4288d-efe8-43e1-be37-d64e8983fae3\">\n",
              "    <div class=\"colab-df-container\">\n",
              "      <div>\n",
              "<style scoped>\n",
              "    .dataframe tbody tr th:only-of-type {\n",
              "        vertical-align: middle;\n",
              "    }\n",
              "\n",
              "    .dataframe tbody tr th {\n",
              "        vertical-align: top;\n",
              "    }\n",
              "\n",
              "    .dataframe thead th {\n",
              "        text-align: right;\n",
              "    }\n",
              "</style>\n",
              "<table border=\"1\" class=\"dataframe\">\n",
              "  <thead>\n",
              "    <tr style=\"text-align: right;\">\n",
              "      <th></th>\n",
              "      <th>Review</th>\n",
              "      <th>Liked</th>\n",
              "    </tr>\n",
              "  </thead>\n",
              "  <tbody>\n",
              "    <tr>\n",
              "      <th>0</th>\n",
              "      <td>[Wow, Loved, place]</td>\n",
              "      <td>1</td>\n",
              "    </tr>\n",
              "    <tr>\n",
              "      <th>1</th>\n",
              "      <td>[Crust, not, good]</td>\n",
              "      <td>0</td>\n",
              "    </tr>\n",
              "    <tr>\n",
              "      <th>2</th>\n",
              "      <td>[Not, tasty, texture, nasty]</td>\n",
              "      <td>0</td>\n",
              "    </tr>\n",
              "    <tr>\n",
              "      <th>3</th>\n",
              "      <td>[Stopped, late, May, bank, holiday, Rick, Stev...</td>\n",
              "      <td>1</td>\n",
              "    </tr>\n",
              "    <tr>\n",
              "      <th>4</th>\n",
              "      <td>[The, selection, menu, great, price]</td>\n",
              "      <td>1</td>\n",
              "    </tr>\n",
              "    <tr>\n",
              "      <th>...</th>\n",
              "      <td>...</td>\n",
              "      <td>...</td>\n",
              "    </tr>\n",
              "    <tr>\n",
              "      <th>995</th>\n",
              "      <td>[I, think, food, flavor, texture, lacking]</td>\n",
              "      <td>0</td>\n",
              "    </tr>\n",
              "    <tr>\n",
              "      <th>996</th>\n",
              "      <td>[Appetite, instantly, gone]</td>\n",
              "      <td>0</td>\n",
              "    </tr>\n",
              "    <tr>\n",
              "      <th>997</th>\n",
              "      <td>[Overall, I, not, impressed, would, not, go, b...</td>\n",
              "      <td>0</td>\n",
              "    </tr>\n",
              "    <tr>\n",
              "      <th>998</th>\n",
              "      <td>[The, whole, experience, underwhelming, I, thi...</td>\n",
              "      <td>0</td>\n",
              "    </tr>\n",
              "    <tr>\n",
              "      <th>999</th>\n",
              "      <td>[Then, I, not, wasted, enough, life, poured, s...</td>\n",
              "      <td>0</td>\n",
              "    </tr>\n",
              "  </tbody>\n",
              "</table>\n",
              "<p>1000 rows × 2 columns</p>\n",
              "</div>\n",
              "      <button class=\"colab-df-convert\" onclick=\"convertToInteractive('df-e6f4288d-efe8-43e1-be37-d64e8983fae3')\"\n",
              "              title=\"Convert this dataframe to an interactive table.\"\n",
              "              style=\"display:none;\">\n",
              "        \n",
              "  <svg xmlns=\"http://www.w3.org/2000/svg\" height=\"24px\"viewBox=\"0 0 24 24\"\n",
              "       width=\"24px\">\n",
              "    <path d=\"M0 0h24v24H0V0z\" fill=\"none\"/>\n",
              "    <path d=\"M18.56 5.44l.94 2.06.94-2.06 2.06-.94-2.06-.94-.94-2.06-.94 2.06-2.06.94zm-11 1L8.5 8.5l.94-2.06 2.06-.94-2.06-.94L8.5 2.5l-.94 2.06-2.06.94zm10 10l.94 2.06.94-2.06 2.06-.94-2.06-.94-.94-2.06-.94 2.06-2.06.94z\"/><path d=\"M17.41 7.96l-1.37-1.37c-.4-.4-.92-.59-1.43-.59-.52 0-1.04.2-1.43.59L10.3 9.45l-7.72 7.72c-.78.78-.78 2.05 0 2.83L4 21.41c.39.39.9.59 1.41.59.51 0 1.02-.2 1.41-.59l7.78-7.78 2.81-2.81c.8-.78.8-2.07 0-2.86zM5.41 20L4 18.59l7.72-7.72 1.47 1.35L5.41 20z\"/>\n",
              "  </svg>\n",
              "      </button>\n",
              "      \n",
              "  <style>\n",
              "    .colab-df-container {\n",
              "      display:flex;\n",
              "      flex-wrap:wrap;\n",
              "      gap: 12px;\n",
              "    }\n",
              "\n",
              "    .colab-df-convert {\n",
              "      background-color: #E8F0FE;\n",
              "      border: none;\n",
              "      border-radius: 50%;\n",
              "      cursor: pointer;\n",
              "      display: none;\n",
              "      fill: #1967D2;\n",
              "      height: 32px;\n",
              "      padding: 0 0 0 0;\n",
              "      width: 32px;\n",
              "    }\n",
              "\n",
              "    .colab-df-convert:hover {\n",
              "      background-color: #E2EBFA;\n",
              "      box-shadow: 0px 1px 2px rgba(60, 64, 67, 0.3), 0px 1px 3px 1px rgba(60, 64, 67, 0.15);\n",
              "      fill: #174EA6;\n",
              "    }\n",
              "\n",
              "    [theme=dark] .colab-df-convert {\n",
              "      background-color: #3B4455;\n",
              "      fill: #D2E3FC;\n",
              "    }\n",
              "\n",
              "    [theme=dark] .colab-df-convert:hover {\n",
              "      background-color: #434B5C;\n",
              "      box-shadow: 0px 1px 3px 1px rgba(0, 0, 0, 0.15);\n",
              "      filter: drop-shadow(0px 1px 2px rgba(0, 0, 0, 0.3));\n",
              "      fill: #FFFFFF;\n",
              "    }\n",
              "  </style>\n",
              "\n",
              "      <script>\n",
              "        const buttonEl =\n",
              "          document.querySelector('#df-e6f4288d-efe8-43e1-be37-d64e8983fae3 button.colab-df-convert');\n",
              "        buttonEl.style.display =\n",
              "          google.colab.kernel.accessAllowed ? 'block' : 'none';\n",
              "\n",
              "        async function convertToInteractive(key) {\n",
              "          const element = document.querySelector('#df-e6f4288d-efe8-43e1-be37-d64e8983fae3');\n",
              "          const dataTable =\n",
              "            await google.colab.kernel.invokeFunction('convertToInteractive',\n",
              "                                                     [key], {});\n",
              "          if (!dataTable) return;\n",
              "\n",
              "          const docLinkHtml = 'Like what you see? Visit the ' +\n",
              "            '<a target=\"_blank\" href=https://colab.research.google.com/notebooks/data_table.ipynb>data table notebook</a>'\n",
              "            + ' to learn more about interactive tables.';\n",
              "          element.innerHTML = '';\n",
              "          dataTable['output_type'] = 'display_data';\n",
              "          await google.colab.output.renderOutput(dataTable, element);\n",
              "          const docLink = document.createElement('div');\n",
              "          docLink.innerHTML = docLinkHtml;\n",
              "          element.appendChild(docLink);\n",
              "        }\n",
              "      </script>\n",
              "    </div>\n",
              "  </div>\n",
              "  "
            ],
            "text/plain": [
              "                                                Review  Liked\n",
              "0                                  [Wow, Loved, place]      1\n",
              "1                                   [Crust, not, good]      0\n",
              "2                         [Not, tasty, texture, nasty]      0\n",
              "3    [Stopped, late, May, bank, holiday, Rick, Stev...      1\n",
              "4                 [The, selection, menu, great, price]      1\n",
              "..                                                 ...    ...\n",
              "995         [I, think, food, flavor, texture, lacking]      0\n",
              "996                        [Appetite, instantly, gone]      0\n",
              "997  [Overall, I, not, impressed, would, not, go, b...      0\n",
              "998  [The, whole, experience, underwhelming, I, thi...      0\n",
              "999  [Then, I, not, wasted, enough, life, poured, s...      0\n",
              "\n",
              "[1000 rows x 2 columns]"
            ]
          },
          "metadata": {},
          "execution_count": 87
        }
      ]
    },
    {
      "cell_type": "code",
      "metadata": {
        "id": "nW2bJe8MLT72"
      },
      "source": [
        "\n",
        "\n",
        "df.Review= df.Review.astype(str)\n",
        "\n"
      ],
      "execution_count": 88,
      "outputs": []
    },
    {
      "cell_type": "code",
      "metadata": {
        "id": "wbY0gxoVbZwA",
        "colab": {
          "base_uri": "https://localhost:8080/"
        },
        "outputId": "c2038c5e-ad94-4679-9c4a-20346a08469b"
      },
      "source": [
        "import numpy as np\n",
        "review_list=df['Review'].array\n",
        "review_list.shape\n"
      ],
      "execution_count": 89,
      "outputs": [
        {
          "output_type": "execute_result",
          "data": {
            "text/plain": [
              "(1000,)"
            ]
          },
          "metadata": {},
          "execution_count": 89
        }
      ]
    },
    {
      "cell_type": "code",
      "metadata": {
        "id": "sbH1PlWjQVpP",
        "colab": {
          "base_uri": "https://localhost:8080/"
        },
        "outputId": "aeeb7336-9d8b-4334-9b47-12725a61d79c"
      },
      "source": [
        "x = df.iloc[:,0].values\n",
        "y = df.iloc[:,1].values\n"
      ],
      "execution_count": 105,
      "outputs": [
        {
          "output_type": "execute_result",
          "data": {
            "text/plain": [
              "array([\"['Wow', 'Loved', 'place']\", \"['Crust', 'not', 'good']\",\n",
              "       \"['Not', 'tasty', 'texture', 'nasty']\",\n",
              "       \"['Stopped', 'late', 'May', 'bank', 'holiday', 'Rick', 'Steve', 'recommendation', 'loved']\",\n",
              "       \"['The', 'selection', 'menu', 'great', 'price']\",\n",
              "       \"['Now', 'I', 'getting', 'angry', 'I', 'want', 'damn', 'pho']\",\n",
              "       \"['Honeslty', 'not', 'taste', 'THAT', 'fresh']\",\n",
              "       \"['The', 'potato', 'like', 'rubber', 'could', 'tell', 'made', 'ahead', 'time', 'kept', 'warmer']\",\n",
              "       \"['The', 'fry', 'great']\", \"['A', 'great', 'touch']\",\n",
              "       \"['Service', 'prompt']\", \"['Would', 'not', 'go', 'back']\",\n",
              "       \"['The', 'cashier', 'no', 'care', 'ever', 'I', 'say', 'still', 'ended', 'wayyy', 'overpriced']\",\n",
              "       \"['I', 'tried', 'Cape', 'Cod', 'ravoli', 'chicken', 'cranberrymmmm']\",\n",
              "       \"['I', 'disgusted', 'I', 'pretty', 'sure', 'human', 'hair']\",\n",
              "       \"['I', 'shocked', 'no', 'sign', 'indicate', 'cash']\",\n",
              "       \"['Highly', 'recommended']\",\n",
              "       \"['Waitress', 'little', 'slow', 'service']\",\n",
              "       \"['This', 'place', 'not', 'worth', 'time', 'let', 'alone', 'Vegas']\",\n",
              "       \"['not', 'like']\", \"['The', 'Burrittos', 'Blah']\",\n",
              "       \"['The', 'food', 'amazing']\", \"['Service', 'also', 'cute']\",\n",
              "       \"['I', 'could', 'care', 'le', 'The', 'interior', 'beautiful']\",\n",
              "       \"['So', 'performed']\",\n",
              "       \"['That', 'rightthe', 'red', 'velvet', 'cakeohhh', 'stuff', 'good']\",\n",
              "       \"['They', 'never', 'brought', 'salad', 'asked']\",\n",
              "       \"['This', 'hole', 'wall', 'great', 'Mexican', 'street', 'taco', 'friendly', 'staff']\",\n",
              "       \"['Took', 'hour', 'get', 'food', '4', 'table', 'restaurant', 'food', 'Luke', 'warm', 'Our', 'sever', 'running', 'around', 'like', 'totally', 'overwhelmed']\",\n",
              "       \"['The', 'worst', 'salmon', 'sashimi']\",\n",
              "       \"['Also', 'combo', 'like', 'burger', 'fry', 'beer', '23', 'decent', 'deal']\",\n",
              "       \"['This', 'like', 'final', 'blow']\",\n",
              "       \"['I', 'found', 'place', 'accident', 'I', 'could', 'not', 'happier']\",\n",
              "       \"['seems', 'like', 'good', 'quick', 'place', 'grab', 'bite', 'familiar', 'pub', 'food', 'favor', 'look', 'elsewhere']\",\n",
              "       \"['Overall', 'I', 'like', 'place', 'lot']\",\n",
              "       \"['The', 'redeeming', 'quality', 'restaurant', 'inexpensive']\",\n",
              "       \"['Ample', 'portion', 'good', 'price']\",\n",
              "       \"['Poor', 'service', 'waiter', 'made', 'feel', 'like', 'I', 'stupid', 'every', 'time', 'came', 'table']\",\n",
              "       \"['My', 'first', 'visit', 'Hiro', 'delight']\",\n",
              "       \"['Service', 'suck']\", \"['The', 'shrimp', 'tender', 'moist']\",\n",
              "       \"['There', 'not', 'deal', 'good', 'enough', 'would', 'drag', 'establishment']\",\n",
              "       \"['Hard', 'judge', 'whether', 'side', 'good', 'grossed', 'melted', 'styrofoam', 'not', 'want', 'eat', 'fear', 'getting', 'sick']\",\n",
              "       \"['On', 'positive', 'note', 'server', 'attentive', 'provided', 'great', 'service']\",\n",
              "       \"['Frozen', 'puck', 'disgust', 'worst', 'people', 'behind', 'register']\",\n",
              "       \"['The', 'thing', 'I', 'like', 'prime', 'rib', 'dessert', 'section']\",\n",
              "       \"['It', 'bad', 'food', 'damn', 'generic']\",\n",
              "       \"['The', 'burger', 'good', 'beef', 'cooked', 'right']\",\n",
              "       \"['If', 'want', 'sandwich', 'go', 'Firehouse']\",\n",
              "       \"['My', 'side', 'Greek', 'salad', 'Greek', 'dressing', 'tasty', 'pita', 'hummus', 'refreshing']\",\n",
              "       \"['We', 'ordered', 'duck', 'rare', 'pink', 'tender', 'inside', 'nice', 'char', 'outside']\",\n",
              "       \"['He', 'came', 'running', 'u', 'realized', 'husband', 'left', 'sunglass', 'table']\",\n",
              "       \"['Their', 'chow', 'mein', 'good']\",\n",
              "       \"['They', 'horrible', 'attitude', 'towards', 'customer', 'talk', 'one', 'customer', 'not', 'enjoy', 'food']\",\n",
              "       \"['The', 'portion', 'huge']\",\n",
              "       \"['Loved', 'itfriendly', 'server', 'great', 'food', 'wonderful', 'imaginative', 'menu']\",\n",
              "       \"['The', 'Heart', 'Attack', 'Grill', 'downtown', 'Vegas', 'absolutely', 'flatlined', 'excuse', 'restaurant']\",\n",
              "       \"['Not', 'much', 'seafood', 'like', '5', 'string', 'pasta', 'bottom']\",\n",
              "       \"['The', 'salad', 'right', 'amount', 'sauce', 'not', 'power', 'scallop', 'perfectly', 'cooked']\",\n",
              "       \"['The', 'ripped', 'banana', 'not', 'ripped', 'petrified', 'tasteless']\",\n",
              "       \"['At', 'least', 'think', 'refill', 'water', 'I', 'struggle', 'wave', '10', 'minute']\",\n",
              "       \"['This', 'place', 'receives', 'star', 'APPETIZERS']\",\n",
              "       \"['The', 'cocktail', 'handmade', 'delicious']\",\n",
              "       \"['We', 'would', 'definitely', 'go', 'back']\",\n",
              "       \"['We', 'glad', 'found', 'place']\",\n",
              "       \"['Great', 'food', 'service', 'huge', 'portion', 'give', 'military', 'discount']\",\n",
              "       \"['Always', 'great', 'time', 'Dos', 'Gringos']\",\n",
              "       \"['Updatewent', 'back', 'second', 'time', 'still', 'amazing']\",\n",
              "       \"['We', 'got', 'food', 'apparently', 'never', 'heard', 'salt', 'batter', 'fish', 'chewy']\",\n",
              "       \"['A', 'great', 'way', 'finish', 'great']\",\n",
              "       \"['The', 'deal', 'included', '5', 'tasting', '2', 'drink', 'Jeff', 'went', 'beyond', 'expected']\",\n",
              "       \"['Really', 'really', 'good', 'rice', 'time']\",\n",
              "       \"['The', 'service', 'meh']\",\n",
              "       \"['It', 'took', '30', 'min', 'get', 'milkshake', 'nothing', 'chocolate', 'milk']\",\n",
              "       \"['I', 'guess', 'I', 'known', 'place', 'would', 'suck', 'inside', 'Excalibur', 'I', 'not', 'use', 'common', 'sense']\",\n",
              "       \"['The', 'scallop', 'dish', 'quite', 'appalling', 'value', 'well']\",\n",
              "       \"['2', 'time', 'Very', 'Bad', 'Customer', 'Service']\",\n",
              "       \"['The', 'sweet', 'potato', 'fry', 'good', 'seasoned', 'well']\",\n",
              "       \"['Today', 'second', 'time', 'I', 'lunch', 'buffet', 'pretty', 'good']\",\n",
              "       \"['There', 'much', 'good', 'food', 'Vegas', 'I', 'feel', 'cheated', 'wasting', 'eating', 'opportunity', 'going', 'Rice', 'Company']\",\n",
              "       \"['Coming', 'like', 'experiencing', 'underwhelming', 'relationship', 'party', 'can', 'not', 'wait', 'person', 'ask', 'break']\",\n",
              "       \"['walked', 'place', 'smelled', 'like', 'old', 'grease', 'trap', '2', 'others', 'eating']\",\n",
              "       \"['The', 'turkey', 'roast', 'beef', 'bland']\", \"['This', 'place']\",\n",
              "       \"['The', 'pan', 'cake', 'everyone', 'raving', 'taste', 'like', 'sugary', 'disaster', 'tailored', 'palate', 'six', 'year', 'old']\",\n",
              "       \"['I', 'love', 'Pho', 'spring', 'roll', 'oh', 'yummy', 'try']\",\n",
              "       \"['The', 'poor', 'batter', 'meat', 'ratio', 'made', 'chicken', 'tender', 'unsatisfying']\",\n",
              "       \"['All', 'I', 'say', 'food', 'amazing']\", \"['Omelets', 'die']\",\n",
              "       \"['Everything', 'fresh', 'delicious']\",\n",
              "       \"['In', 'summary', 'largely', 'disappointing', 'dining', 'experience']\",\n",
              "       \"['It', 'like', 'really', 'sexy', 'party', 'mouth', 'outrageously', 'flirting', 'hottest', 'person', 'party']\",\n",
              "       \"['Never', 'Hard', 'Rock', 'Casino', 'WILL', 'NEVER', 'EVER', 'STEP', 'FORWARD', 'IN', 'IT', 'AGAIN']\",\n",
              "       \"['Best', 'breakfast', 'buffet']\",\n",
              "       \"['say', 'bye', 'bye', 'tip', 'lady']\", \"['We', 'never', 'go']\",\n",
              "       \"['Will', 'back']\", \"['Food', 'arrived', 'quickly']\",\n",
              "       \"['It', 'not', 'good']\",\n",
              "       \"['On', 'side', 'cafe', 'serf', 'really', 'good', 'food']\",\n",
              "       \"['Our', 'server', 'fantastic', 'found', 'wife', 'love', 'roasted', 'garlic', 'bone', 'marrow', 'added', 'extra', 'meal', 'another', 'marrow', 'go']\",\n",
              "       \"['The', 'good', 'thing', 'waiter', 'helpful', 'kept', 'bloddy', 'mary', 'coming']\",\n",
              "       \"['Best', 'Buffet', 'town', 'price', 'can', 'not', 'beat']\",\n",
              "       \"['I', 'LOVED', 'mussel', 'cooked', 'wine', 'reduction', 'duck', 'tender', 'potato', 'dish', 'delicious']\",\n",
              "       \"['This', 'one', 'better', 'buffet', 'I']\",\n",
              "       \"['So', 'went', 'Tigerlilly', 'fantastic', 'afternoon']\",\n",
              "       \"['The', 'food', 'delicious', 'bartender', 'attentive', 'personable', 'AND', 'got', 'great', 'deal']\",\n",
              "       \"['The', 'ambience', 'wonderful', 'music', 'playing']\",\n",
              "       \"['Will', 'go', 'back', 'next', 'trip']\", \"['Sooooo', 'good']\",\n",
              "       \"['REAL', 'sushi', 'lover', 'let', 'u', 'honest', 'Yama', 'not', 'good']\",\n",
              "       \"['At', 'least', '40min', 'passed', 'u', 'ordering', 'food', 'arriving', 'not', 'busy']\",\n",
              "       \"['This', 'really', 'fantastic', 'Thai', 'restaurant', 'definitely', 'worth', 'visit']\",\n",
              "       \"['Nice', 'spicy', 'tender']\", \"['Good', 'price']\", \"['Check']\",\n",
              "       \"['It', 'pretty', 'gross']\", \"['I', 'better', 'atmosphere']\",\n",
              "       \"['Kind', 'hard', 'mess', 'steak']\",\n",
              "       \"['Although', 'I', 'much', 'liked', 'look', 'sound', 'place', 'actual', 'experience', 'bit', 'disappointing']\",\n",
              "       \"['I', 'not', 'know', 'place', 'managed', 'served', 'blandest', 'food', 'I', 'ever', 'eaten', 'preparing', 'Indian', 'cuisine']\",\n",
              "       \"['Worst', 'service', 'boot', 'least', 'worry']\",\n",
              "       \"['Service', 'fine', 'waitress', 'friendly']\",\n",
              "       \"['The', 'guy', 'steak', 'steak', 'loving', 'son', 'steak', 'best', 'worst', 'place', 'said', 'best', 'steak', 'ever', 'eaten']\",\n",
              "       \"['We', 'thought', 'would', 'venture', 'away', 'get', 'good', 'sushi', 'place', 'really', 'hit', 'spot', 'night']\",\n",
              "       \"['Host', 'staff', 'lack', 'better', 'word', 'BITCHES']\",\n",
              "       \"['Bland', 'Not', 'liking', 'place', 'number', 'reason', 'I', 'not', 'want', 'waste', 'time', 'bad', 'reviewing', 'I', 'leave']\",\n",
              "       \"['Phenomenal', 'food', 'service', 'ambiance']\",\n",
              "       \"['I', 'would', 'not', 'return']\",\n",
              "       \"['Definitely', 'worth', 'venturing', 'strip', 'pork', 'belly', 'return', 'next', 'time', 'I', 'Vegas']\",\n",
              "       \"['This', 'place', 'way', 'overpriced', 'mediocre', 'food']\",\n",
              "       \"['Penne', 'vodka', 'excellent']\",\n",
              "       \"['They', 'good', 'selection', 'food', 'including', 'massive', 'meatloaf', 'sandwich', 'crispy', 'chicken', 'wrap', 'delish', 'tuna', 'melt', 'tasty', 'burger']\",\n",
              "       \"['The', 'management', 'rude']\",\n",
              "       \"['Delicious', 'NYC', 'bagel', 'good', 'selection', 'cream', 'cheese', 'real', 'Lox', 'caper', 'even']\",\n",
              "       \"['Great', 'Subway', 'fact', 'good', 'come', 'every', 'Subway', 'not', 'meet', 'expectation']\",\n",
              "       \"['I', 'seriously', 'solid', 'breakfast']\",\n",
              "       \"['This', 'one', 'best', 'bar', 'food', 'Vegas']\",\n",
              "       \"['He', 'extremely', 'rude', 'really', 'many', 'restaurant', 'I', 'would', 'love', 'dine', 'weekend', 'Vegas']\",\n",
              "       \"['My', 'drink', 'never', 'empty', 'made', 'really', 'great', 'menu', 'suggestion']\",\n",
              "       \"['Do', 'not']\",\n",
              "       \"['The', 'waiter', 'not', 'helpful', 'friendly', 'rarely', 'checked', 'u']\",\n",
              "       \"['My', 'husband', 'I', 'ate', 'lunch', 'disappointed', 'food', 'service']\",\n",
              "       \"['And', 'red', 'curry', 'much', 'bamboo', 'shoot', 'not', 'tasty']\",\n",
              "       \"['Nice', 'blanket', 'moz', 'top', 'feel', 'like', 'done', 'cover', 'subpar', 'food']\",\n",
              "       \"['The', 'bathroom', 'clean', 'place', 'well', 'decorated']\",\n",
              "       \"['The', 'menu', 'always', 'changing', 'food', 'quality', 'going', 'service', 'extremely', 'slow']\",\n",
              "       \"['The', 'service', 'little', 'slow', 'considering', 'served', '3', 'people', 'server', 'food', 'coming', 'slow', 'pace']\",\n",
              "       \"['I', 'give', '2', 'thumb']\",\n",
              "       \"['We', 'watched', 'waiter', 'pay', 'lot', 'attention', 'table', 'ignore', 'u']\",\n",
              "       \"['My', 'fianc', 'I', 'came', 'middle', 'day', 'greeted', 'seated', 'right', 'away']\",\n",
              "       \"['This', 'great', 'restaurant', 'Mandalay', 'Bay']\",\n",
              "       \"['We', 'waited', 'forty', 'five', 'minute', 'vain']\",\n",
              "       \"['Crostini', 'came', 'salad', 'stale']\",\n",
              "       \"['Some', 'highlight', 'Great', 'quality', 'nigiri']\",\n",
              "       \"['staff', 'friendly', 'joint', 'always', 'clean']\",\n",
              "       \"['different', 'cut', 'piece', 'day', 'still', 'wonderful', 'tender', 'well', 'well', 'flavored']\",\n",
              "       \"['I', 'ordered', 'Voodoo', 'pasta', 'first', 'time', 'I', 'would', 'really', 'excellent', 'pasta', 'since', 'going', 'gluten', 'free', 'several', 'year', 'ago']\",\n",
              "       \"['place', 'good']\",\n",
              "       \"['Unfortunately', 'must', 'hit', 'bakery', 'leftover', 'day', 'everything', 'ordered', 'STALE']\",\n",
              "       \"['I', 'came', 'back', 'today', 'since', 'relocated', 'still', 'not', 'impressed']\",\n",
              "       \"['I', 'seated', 'immediately']\",\n",
              "       \"['Their', 'menu', 'diverse', 'reasonably', 'priced']\",\n",
              "       \"['Avoid', 'cost']\",\n",
              "       \"['Restaurant', 'always', 'full', 'never', 'wait']\",\n",
              "       \"['DELICIOUS']\",\n",
              "       \"['This', 'place', 'handsdown', 'one', 'best', 'place', 'eat', 'Phoenix', 'metro', 'area']\",\n",
              "       \"['So', 'not', 'go', 'looking', 'good', 'food']\",\n",
              "       \"['I', 'never', 'treated', 'bad']\", \"['Bacon', 'hella', 'salty']\",\n",
              "       \"['We', 'also', 'ordered', 'spinach', 'avocado', 'salad', 'ingredient', 'sad', 'dressing', 'literally', 'zero', 'taste']\",\n",
              "       \"['This', 'really', 'Vegas', 'fine', 'dining', 'used', 'right', 'menu', 'handed', 'lady', 'no', 'price', 'listed']\",\n",
              "       \"['The', 'waitress', 'friendly']\",\n",
              "       \"['Lordy', 'Khao', 'Soi', 'dish', 'not', 'missed', 'curry', 'lover']\",\n",
              "       \"['Everything', 'menu', 'terrific', 'also', 'thrilled', 'made', 'amazing', 'accommodation', 'vegetarian', 'daughter']\",\n",
              "       \"['Perhaps', 'I', 'caught', 'night', 'judging', 'review', 'I', 'not', 'inspired', 'go', 'back']\",\n",
              "       \"['The', 'service', 'leaf', 'lot', 'desired']\",\n",
              "       \"['The', 'atmosphere', 'modern', 'hip', 'maintaining', 'touch', 'coziness']\",\n",
              "       \"['Not', 'weekly', 'haunt', 'definitely', 'place', 'come', 'back', 'every']\",\n",
              "       \"['We', 'literally', 'sat', '20', 'minute', 'no', 'one', 'asking', 'take', 'order']\",\n",
              "       \"['The', 'burger', 'absolutely', 'no', 'flavor', 'meat', 'totally', 'bland', 'burger', 'overcooked', 'no', 'charcoal', 'flavor']\",\n",
              "       \"['I', 'also', 'decided', 'not', 'send', 'back', 'waitress', 'looked', 'like', 'verge', 'heart', 'attack']\",\n",
              "       \"['I', 'dressed', 'treated', 'rudely']\",\n",
              "       \"['It', 'probably', 'dirt']\",\n",
              "       \"['Love', 'place', 'hit', 'spot', 'I', 'want', 'something', 'healthy', 'not', 'lacking', 'quantity', 'flavor']\",\n",
              "       \"['I', 'ordered', 'Lemon', 'raspberry', 'ice', 'cocktail', 'also', 'incredible']\",\n",
              "       \"['The', 'food', 'sucked', 'expected', 'sucked', 'could', 'imagined']\",\n",
              "       \"['Interesting', 'decor']\",\n",
              "       \"['What', 'I', 'really', 'like', 'crepe', 'station']\",\n",
              "       \"['Also', 'served', 'hot', 'bread', 'butter', 'home', 'made', 'potato', 'chip', 'bacon', 'bit', 'topvery', 'original', 'good']\",\n",
              "       \"['watch', 'preparing', 'delicious', 'food']\",\n",
              "       \"['Both', 'egg', 'roll', 'fantastic']\",\n",
              "       \"['When', 'order', 'arrived', 'one', 'gyro', 'missing']\",\n",
              "       \"['I', 'salad', 'wing', 'ice', 'cream', 'dessert', 'left', 'feeling', 'quite', 'satisfied']\",\n",
              "       \"['I', 'not', 'really', 'sure', 'Joeys', 'voted', 'best', 'hot', 'dog', 'Valley', 'reader', 'Phoenix', 'Magazine']\",\n",
              "       \"['The', 'best', 'place', 'go', 'tasty', 'bowl', 'Pho']\",\n",
              "       \"['The', 'live', 'music', 'Fridays', 'totally', 'blow']\",\n",
              "       \"['I', 'never', 'insulted', 'felt', 'disrespected']\",\n",
              "       \"['Very', 'friendly', 'staff']\", \"['It', 'worth', 'drive']\",\n",
              "       \"['I', 'heard', 'good', 'thing', 'place', 'exceeding', 'every', 'hope', 'I', 'could', 'dreamed']\",\n",
              "       \"['Food', 'great', 'serivce']\",\n",
              "       \"['The', 'warm', 'beer', 'not', 'help']\",\n",
              "       \"['Great', 'brunch', 'spot']\",\n",
              "       \"['Service', 'friendly', 'inviting']\",\n",
              "       \"['Very', 'good', 'lunch', 'spot']\",\n",
              "       \"['I', 'lived', 'since', '1979', 'first', 'last', 'time', 'I', 'stepped', 'foot', 'place']\",\n",
              "       \"['The', 'WORST', 'EXPERIENCE', 'EVER']\",\n",
              "       \"['Must', 'night', 'place']\",\n",
              "       \"['The', 'side', 'delish', 'mixed', 'mushroom', 'yukon', 'gold', 'puree', 'white', 'corn', 'beateous']\",\n",
              "       \"['If', 'bug', 'never', 'showed', 'I', 'would', 'given', '4', 'sure', 'side', 'wall', 'bug', 'climbing', 'kitchen']\",\n",
              "       \"['For', '10', 'minute', 'waiting', 'salad', 'realized', 'not', 'coming', 'time', 'soon']\",\n",
              "       \"['My', 'friend', 'loved', 'salmon', 'tartar']\",\n",
              "       \"['Will', 'not', 'go', 'back']\", \"['Extremely', 'Tasty']\",\n",
              "       \"['Waitress', 'good', 'though']\", \"['Soggy', 'not', 'good']\",\n",
              "       \"['The', 'Jamaican', 'mojitos', 'delicious']\",\n",
              "       \"['Which', 'small', 'not', 'worth', 'price']\",\n",
              "       \"['food', 'rich', 'order', 'accordingly']\",\n",
              "       \"['The', 'shower', 'area', 'outside', 'rinse', 'not', 'take', 'full', 'shower', 'unless', 'not', 'mind', 'nude', 'everyone', 'see']\",\n",
              "       \"['The', 'service', 'bit', 'lacking']\",\n",
              "       \"['Lobster', 'Bisque', 'Bussell', 'Sprouts', 'Risotto', 'Filet', 'ALL', 'needed', 'salt', 'pepperand', 'course', 'none', 'table']\",\n",
              "       \"['Hopefully', 'bodes', 'going', 'business', 'someone', 'cook', 'come']\",\n",
              "       \"['It', 'either', 'cold', 'not', 'enough', 'flavor', 'bad']\",\n",
              "       \"['I', 'loved', 'bacon', 'wrapped', 'date']\",\n",
              "       \"['This', 'unbelievable', 'BARGAIN']\",\n",
              "       \"['The', 'folk', 'Otto', 'always', 'make', 'u', 'feel', 'welcome', 'special']\",\n",
              "       \"['As', 'main', 'also', 'uninspired']\",\n",
              "       \"['This', 'place', 'I', 'first', 'pho', 'amazing']\",\n",
              "       \"['This', 'wonderful', 'experience', 'made', 'place', 'muststop', 'whenever', 'town']\",\n",
              "       \"['If', 'food', 'not', 'bad', 'enough', 'enjoy', 'dealing', 'world', 'worstannoying', 'drunk', 'people']\",\n",
              "       \"['Very', 'fun', 'chef']\",\n",
              "       \"['Ordered', 'double', 'cheeseburger', 'got', 'single', 'patty', 'falling', 'apart', 'picture', 'uploaded', 'Yeah', 'still', 'suck']\",\n",
              "       \"['Great', 'place', 'couple', 'drink', 'watch', 'sporting', 'event', 'wall', 'covered', 'TVs']\",\n",
              "       \"['If', 'possible', 'give', 'zero', 'star', 'would']\",\n",
              "       \"['The', 'description', 'said', 'yum', 'yum', 'sauce', 'another', 'said', 'eel', 'sauce', 'yet', 'another', 'said', 'spicy', 'mayowell', 'NONE', 'roll', 'sauce']\",\n",
              "       \"['I', 'would', 'say', 'would', 'hardest', 'decision', 'Honestly', 'Ms', 'dish', 'taste', 'supposed', 'taste', 'amazing']\",\n",
              "       \"['If', 'not', 'rolled', 'eye', 'may', 'stayed', 'Not', 'sure', 'go', 'back', 'try']\",\n",
              "       \"['Everyone', 'attentive', 'providing', 'excellent', 'customer', 'service']\",\n",
              "       \"['Horrible', 'not', 'waste', 'time', 'money']\",\n",
              "       \"['Now', 'dish', 'quite', 'flavourful']\",\n",
              "       \"['By', 'time', 'side', 'restaurant', 'almost', 'empty', 'no', 'excuse']\",\n",
              "       \"['It', 'not', 'busy', 'either', 'Also', 'building', 'FREEZING', 'cold']\",\n",
              "       \"['like', 'reviewer', 'said', 'could', 'not', 'pay', 'eat', 'place']\",\n",
              "       \"['Drinks', 'took', 'close', '30', 'minute', 'come', 'one', 'point']\",\n",
              "       \"['Seriously', 'flavorful', 'delight', 'folk']\",\n",
              "       \"['Much', 'better', 'AYCE', 'sushi', 'place', 'I', 'went', 'Vegas']\",\n",
              "       \"['The', 'lighting', 'dark', 'enough', 'set', 'mood']\",\n",
              "       \"['Based', 'subpar', 'service', 'I', 'received', 'no', 'effort', 'show', 'gratitude', 'business', 'I', 'not', 'going', 'back']\",\n",
              "       \"['Owners', 'really', 'great', 'people']\",\n",
              "       \"['There', 'nothing', 'privileged', 'workingeating']\",\n",
              "       \"['The', 'Greek', 'dressing', 'creamy', 'flavorful']\",\n",
              "       \"['Overall', 'I', 'not', 'think', 'I', 'would', 'take', 'parent', 'place', 'made', 'similar', 'complaint', 'I', 'silently', 'felt']\",\n",
              "       \"['Now', 'pizza', 'good', 'peanut', 'sauce', 'tasty']\",\n",
              "       \"['We', '7', 'table', 'service', 'pretty', 'fast']\",\n",
              "       \"['Fantastic', 'service']\",\n",
              "       \"['I', 'well', 'would', 'given', 'godfather', 'zero', 'star', 'possible']\",\n",
              "       \"['They', 'know', 'make']\", \"['tough', 'short', 'flavor']\",\n",
              "       \"['I', 'hope', 'place', 'stick', 'around']\",\n",
              "       \"['I', 'bar', 'Vegas', 'not', 'ever', 'recall', 'charged', 'tap', 'water']\",\n",
              "       \"['The', 'restaurant', 'atmosphere', 'exquisite']\",\n",
              "       \"['Good', 'service', 'clean', 'inexpensive', 'boot']\",\n",
              "       \"['The', 'seafood', 'fresh', 'generous', 'portion']\",\n",
              "       \"['Plus', '8', 'buck']\",\n",
              "       \"['The', 'service', 'not', 'par', 'either']\",\n",
              "       \"['Thus', 'far', 'visited', 'twice', 'food', 'absolutely', 'delicious', 'time']\",\n",
              "       \"['Just', 'good', 'I', 'year', 'ago']\",\n",
              "       \"['For', 'self', 'proclaimed', 'coffee', 'cafe', 'I', 'wildly', 'disappointed']\",\n",
              "       \"['The', 'Veggitarian', 'platter', 'world']\",\n",
              "       \"['You', 'can', 'not', 'go', 'wrong', 'food']\",\n",
              "       \"['You', 'can', 'not', 'beat']\",\n",
              "       \"['Stopped', 'place', 'Madison', 'Ironman', 'friendly', 'kind', 'staff']\",\n",
              "       \"['The', 'chef', 'friendly', 'good', 'job']\",\n",
              "       \"['I', 'better', 'not', 'dedicated', 'boba', 'tea', 'spot', 'even', 'Jenni', 'Pho']\",\n",
              "       \"['I', 'liked', 'patio', 'service', 'outstanding']\",\n",
              "       \"['The', 'goat', 'taco', 'not', 'skimp', 'meat', 'wow', 'FLAVOR']\",\n",
              "       \"['I', 'think', 'not']\",\n",
              "       \"['I', 'mac', 'salad', 'pretty', 'bland', 'I', 'not', 'getting']\",\n",
              "       \"['I', 'went', 'Bachi', 'Burger', 'friend', 'recommendation', 'not', 'disappointed']\",\n",
              "       \"['Service', 'stink']\", \"['I', 'waited', 'waited']\",\n",
              "       \"['This', 'place', 'not', 'quality', 'sushi', 'not', 'quality', 'restaurant']\",\n",
              "       \"['I', 'would', 'definitely', 'recommend', 'wing', 'well', 'pizza']\",\n",
              "       \"['Great', 'Pizza', 'Salads']\",\n",
              "       \"['Things', 'went', 'wrong', 'They', 'burned', 'saganaki']\",\n",
              "       \"['We', 'waited', 'hour', 'breakfast', 'I', 'could', 'done', '100', 'time', 'better', 'home']\",\n",
              "       \"['This', 'place', 'amazing']\",\n",
              "       \"['I', 'hate', 'disagree', 'fellow', 'Yelpers', 'husband', 'I', 'disappointed', 'place']\",\n",
              "       \"['Waited', '2', 'hour', 'never', 'got', 'either', 'pizza', 'many', 'around', 'u', 'came', 'later']\",\n",
              "       \"['Just', 'not', 'know', 'slow']\",\n",
              "       \"['The', 'staff', 'great', 'food', 'delish', 'incredible', 'beer', 'selection']\",\n",
              "       \"['I', 'live', 'neighborhood', 'I', 'disappointed', 'I', 'not', 'back', 'convenient', 'location']\",\n",
              "       \"['I', 'not', 'know', 'pulled', 'pork', 'could', 'soooo', 'delicious']\",\n",
              "       \"['You', 'get', 'incredibly', 'fresh', 'fish', 'prepared', 'care']\",\n",
              "       \"['Before', 'I', 'go', 'I', 'gave', '1', 'star', 'rating', 'please', 'know', 'third', 'time', 'eating', 'Bachi', 'burger', 'writing', 'review']\",\n",
              "       \"['I', 'love', 'fact', 'everything', 'menu', 'worth']\",\n",
              "       \"['Never', 'I', 'dining', 'place']\",\n",
              "       \"['The', 'food', 'excellent', 'service', 'good']\",\n",
              "       \"['Good', 'beer', 'drink', 'selection', 'good', 'food', 'selection']\",\n",
              "       \"['Please', 'stay', 'away', 'shrimp', 'stir', 'fried', 'noodle']\",\n",
              "       \"['The', 'potato', 'chip', 'order', 'sad', 'I', 'could', 'probably', 'count', 'many', 'chip', 'box', 'probably', 'around', '12']\",\n",
              "       \"['Food', 'really', 'boring']\", \"['Good', 'Servicecheck']\",\n",
              "       \"['This', 'greedy', 'corporation', 'NEVER', 'see', 'another', 'dime']\",\n",
              "       \"['Will', 'never', 'ever', 'go', 'back']\",\n",
              "       \"['As', 'much', 'I', 'would', 'like', 'go', 'back', 'I', 'can', 'not', 'get', 'passed', 'atrocious', 'service', 'never', 'return']\",\n",
              "       \"['In', 'summer', 'dine', 'charming', 'outdoor', 'patio', 'delightful']\",\n",
              "       \"['I', 'not', 'expect', 'good']\", \"['Fantastic', 'food']\",\n",
              "       \"['She', 'ordered', 'toasted', 'English', 'muffin', 'came', 'untoasted']\",\n",
              "       \"['The', 'food', 'good']\", \"['Never', 'going', 'back']\",\n",
              "       \"['Great', 'food', 'price', 'high', 'quality', 'house', 'made']\",\n",
              "       \"['The', 'bus', 'boy', 'hand', 'rude']\",\n",
              "       \"['By', 'point', 'friend', 'I', 'basically', 'figured', 'place', 'joke', 'not', 'mind', 'making', 'publicly', 'loudly', 'known']\",\n",
              "       \"['Back', 'good', 'BBQ', 'lighter', 'fare', 'reasonable', 'pricing', 'tell', 'public', 'back', 'old', 'way']\",\n",
              "       \"['And', 'considering', 'two', 'u', 'left', 'full', 'happy', '20', 'can', 'not', 'go', 'wrong']\",\n",
              "       \"['All', 'bread', 'made', 'inhouse']\",\n",
              "       \"['The', 'downside', 'service']\",\n",
              "       \"['Also', 'fry', 'without', 'doubt', 'worst', 'fry', 'I', 'ever']\",\n",
              "       \"['Service', 'exceptional', 'food', 'good', 'review']\",\n",
              "       \"['A', 'couple', 'month', 'later', 'I', 'returned', 'amazing', 'meal']\",\n",
              "       \"['Favorite', 'place', 'town', 'shawarrrrrrma']\",\n",
              "       \"['The', 'black', 'eyed', 'pea', 'sweet', 'potato', 'UNREAL']\",\n",
              "       \"['You', 'not', 'disappointed']\",\n",
              "       \"['They', 'could', 'serve', 'vinaigrette', 'may', 'make', 'better', 'overall', 'dish', 'still', 'good']\",\n",
              "       \"['I', 'go', 'far', 'many', 'place', 'I', 'never', 'seen', 'restaurant', 'serf', '1', 'egg', 'breakfast', 'especially', '400']\",\n",
              "       \"['When', 'mom', 'I', 'got', 'home', 'immediately', 'got', 'sick', 'bite', 'salad']\",\n",
              "       \"['The', 'server', 'not', 'pleasant', 'deal', 'not', 'always', 'honor', 'Pizza', 'Hut', 'coupon']\",\n",
              "       \"['Both', 'truly', 'unbelievably', 'good', 'I', 'glad', 'went', 'back']\",\n",
              "       \"['We', 'fantastic', 'service', 'pleased', 'atmosphere']\",\n",
              "       \"['Everything', 'gross']\", \"['I', 'love', 'place']\",\n",
              "       \"['Great', 'service', 'food']\",\n",
              "       \"['First', 'bathroom', 'location', 'dirty', 'Seat', 'cover', 'not', 'replenished', 'plain', 'yucky']\",\n",
              "       \"['The', 'burger', 'I', 'got', 'Gold', 'Standard', '17', 'burger', 'kind', 'disappointed']\",\n",
              "       \"['OMG', 'food', 'delicioso']\",\n",
              "       \"['There', 'nothing', 'authentic', 'place']\",\n",
              "       \"['spaghetti', 'nothing', 'special', 'whatsoever']\",\n",
              "       \"['Of', 'dish', 'salmon', 'best', 'great']\",\n",
              "       \"['The', 'vegetable', 'fresh', 'sauce', 'feel', 'like', 'authentic', 'Thai']\",\n",
              "       \"['It', 'worth', 'driving', 'Tucson']\",\n",
              "       \"['The', 'selection', 'probably', 'worst', 'I', 'seen', 'Vegasthere', 'none']\",\n",
              "       \"['Pretty', 'good', 'beer', 'selection']\",\n",
              "       \"['This', 'place', 'like', 'Chipotle', 'BETTER']\",\n",
              "       \"['Classywarm', 'atmosphere', 'fun', 'fresh', 'appetizer', 'succulent', 'steak', 'Baseball', 'steak']\",\n",
              "       \"['5', 'star', 'brick', 'oven', 'bread', 'app']\",\n",
              "       \"['I', 'eaten', 'multiple', 'time', 'time', 'food', 'delicious']\",\n",
              "       \"['We', 'sat', 'another', 'ten', 'minute', 'finally', 'gave', 'left']\",\n",
              "       \"['He', 'terrible']\",\n",
              "       \"['Everyone', 'treated', 'equally', 'special']\",\n",
              "       \"['It', 'not', 'take', '30', 'min', 'pancake', 'egg']\",\n",
              "       \"['It', 'delicious']\",\n",
              "       \"['On', 'good', 'side', 'staff', 'genuinely', 'pleasant', 'enthusiastic', 'real', 'treat']\",\n",
              "       \"['Sadly', 'Gordon', 'Ramseys', 'Steak', 'place', 'shall', 'sharply', 'avoid', 'next', 'trip', 'Vegas']\",\n",
              "       \"['As', 'always', 'evening', 'wonderful', 'food', 'delicious']\",\n",
              "       \"['Best', 'fish', 'I', 'ever', 'life']\",\n",
              "       \"['The', 'bathroom', 'next', 'door', 'nice']\",\n",
              "       \"['The', 'buffet', 'small', 'food', 'offered', 'BLAND']\",\n",
              "       \"['This', 'Outstanding', 'little', 'restaurant', 'Best', 'Food', 'I', 'ever', 'tasted']\",\n",
              "       \"['Pretty', 'cool', 'I', 'would', 'say']\",\n",
              "       \"['Definitely', 'turn', 'doubt', 'I', 'back', 'unless', 'someone', 'else', 'buying']\",\n",
              "       \"['Server', 'great', 'job', 'handling', 'large', 'rowdy', 'table']\",\n",
              "       \"['I', 'find', 'wasting', 'food', 'despicable', 'not', 'food']\",\n",
              "       \"['My', 'wife', 'Lobster', 'Bisque', 'soup', 'lukewarm']\",\n",
              "       \"['Would', 'come', 'back', 'I', 'sushi', 'craving', 'Vegas']\",\n",
              "       \"['The', 'staff', 'great', 'ambiance', 'great']\",\n",
              "       \"['He', 'deserves', '5', 'star']\",\n",
              "       \"['I', 'left', 'stomach', 'ache', 'felt', 'sick', 'rest', 'day']\",\n",
              "       \"['They', 'dropped', 'ball']\",\n",
              "       \"['The', 'dining', 'space', 'tiny', 'elegantly', 'decorated', 'comfortable']\",\n",
              "       \"['They', 'customize', 'order', 'way', 'would', 'like', 'usual', 'Eggplant', 'Green', 'Bean', 'stir', 'fry', 'love']\",\n",
              "       \"['And', 'bean', 'rice', 'mediocre', 'best']\",\n",
              "       \"['Best', 'taco', 'town', 'far']\",\n",
              "       \"['I', 'took', 'back', 'money', 'got', 'outta']\",\n",
              "       \"['In', 'interesting', 'part', 'town', 'place', 'amazing']\",\n",
              "       \"['RUDE', 'INCONSIDERATE', 'MANAGEMENT']\",\n",
              "       \"['The', 'staff', 'not', 'friendly', 'wait', 'time', 'served', 'horrible', 'no', 'one', 'even', 'say', 'hi', 'first', '10', 'minute']\",\n",
              "       \"['I', 'not', 'back']\", \"['They', 'great', 'dinner']\",\n",
              "       \"['The', 'service', 'outshining', 'I', 'definitely', 'recommend', 'Halibut']\",\n",
              "       \"['The', 'food', 'terrible']\",\n",
              "       \"['WILL', 'NEVER', 'EVER', 'GO', 'BACK', 'AND', 'HAVE', 'TOLD', 'MANY', 'PEOPLE', 'WHAT', 'HAD', 'HAPPENED']\",\n",
              "       \"['I', 'not', 'recommend', 'unless', 'car', 'break', 'front', 'starving']\",\n",
              "       \"['I', 'come', 'back', 'every', 'time', 'I', 'Vegas']\",\n",
              "       \"['This', 'place', 'deserves', 'one', 'star', '90', 'food']\",\n",
              "       \"['This', 'disgrace']\",\n",
              "       \"['Def', 'coming', 'back', 'bowl', 'next', 'time']\",\n",
              "       \"['If', 'want', 'healthy', 'authentic', 'ethic', 'food', 'try', 'place']\",\n",
              "       \"['I', 'continue', 'come', 'lady', 'night', 'andddd', 'date', 'night', 'highly', 'recommend', 'place', 'anyone', 'area']\",\n",
              "       \"['I', 'several', 'time', 'past', 'experience', 'always', 'great']\",\n",
              "       \"['We', 'walked', 'away', 'stuffed', 'happy', 'first', 'Vegas', 'buffet', 'experience']\",\n",
              "       \"['Service', 'excellent', 'price', 'pretty', 'reasonable', 'considering', 'Vegas', 'located', 'inside', 'Crystals', 'shopping', 'mall', 'Aria']\",\n",
              "       \"['To', 'summarize', 'food', 'incredible', 'nay', 'transcendant', 'nothing', 'brings', 'joy', 'quite', 'like', 'memory', 'pneumatic', 'condiment', 'dispenser']\",\n",
              "       \"['I', 'probably', 'one', 'people', 'ever', 'go', 'Ians', 'not', 'like']\",\n",
              "       \"['Kids', 'pizza', 'always', 'hit', 'lot', 'great', 'side', 'dish', 'option', 'kiddos']\",\n",
              "       \"['Service', 'perfect', 'family', 'atmosphere', 'nice', 'see']\",\n",
              "       \"['Cooked', 'perfection', 'service', 'impeccable']\",\n",
              "       \"['This', 'one', 'simply', 'disappointment']\",\n",
              "       \"['Overall', 'I', 'disappointed', 'quality', 'food', 'Bouchon']\",\n",
              "       \"['I', 'not', 'accountant', 'know', 'I', 'getting', 'screwed']\",\n",
              "       \"['Great', 'place', 'eat', 'reminds', 'little', 'mom', 'pop', 'shop', 'San', 'Francisco', 'Bay', 'Area']\",\n",
              "       \"['Today', 'first', 'taste', 'Buldogis', 'Gourmet', 'Hot', 'Dog', 'I', 'tell', 'I', 'ever', 'thought', 'possible']\",\n",
              "       \"['Left', 'frustrated']\", \"['I', 'definitely', 'soon']\",\n",
              "       \"['Food', 'really', 'good', 'I', 'got', 'full', 'petty', 'fast']\",\n",
              "       \"['Service', 'fantastic']\", \"['TOTAL', 'WASTE', 'OF', 'TIME']\",\n",
              "       \"['I', 'not', 'know', 'kind', 'best', 'iced', 'tea']\",\n",
              "       \"['Come', 'hungry', 'leave', 'happy', 'stuffed']\",\n",
              "       \"['For', 'service', 'I', 'give', 'no', 'star']\",\n",
              "       \"['I', 'assure', 'not', 'disappointed']\",\n",
              "       \"['I', 'take', 'little', 'bad', 'service', 'food', 'suck']\",\n",
              "       \"['Gave', 'trying', 'eat', 'crust', 'teeth', 'still', 'sore']\",\n",
              "       \"['But', 'I', 'completely', 'grossed']\",\n",
              "       \"['I', 'really', 'enjoyed', 'eating']\",\n",
              "       \"['First', 'time', 'going', 'I', 'think', 'I', 'quickly', 'become', 'regular']\",\n",
              "       \"['Our', 'server', 'nice', 'even', 'though', 'looked', 'little', 'overwhelmed', 'need', 'stayed', 'professional', 'friendly', 'end']\",\n",
              "       \"['From', 'dinner', 'companion', 'told', 'meeverything', 'fresh', 'nice', 'texture', 'taste']\",\n",
              "       \"['On', 'ground', 'right', 'next', 'table', 'large', 'smeared', 'beensteppedinandtrackedeverywhere', 'pile', 'green', 'bird', 'poop']\",\n",
              "       \"['Furthermore', 'can', 'not', 'even', 'find', 'hour', 'operation', 'website']\",\n",
              "       \"['We', 'tried', 'like', 'place', '10', 'time', 'I', 'think', 'done']\",\n",
              "       \"['What', 'mistake']\", \"['No', 'complaint']\",\n",
              "       \"['This', 'seriously', 'good', 'pizza', 'I', 'expertconnisseur', 'topic']\",\n",
              "       \"['Waiter', 'jerk']\", \"['Strike', '2', 'want', 'rushed']\",\n",
              "       \"['These', 'nicest', 'restaurant', 'owner', 'I', 'ever', 'come', 'across']\",\n",
              "       \"['I', 'never', 'come']\", \"['We', 'loved', 'biscuit']\",\n",
              "       \"['Service', 'quick', 'friendly']\",\n",
              "       \"['Ordered', 'appetizer', 'took', '40', 'minute', 'pizza', 'another', '10', 'minute']\",\n",
              "       \"['So', 'absolutley', 'fantastic']\",\n",
              "       \"['It', 'huge', 'awkward', '15lb', 'piece', 'cow', '34ths', 'gristle', 'fat']\",\n",
              "       \"['definitely', 'come', 'back']\",\n",
              "       \"['I', 'like', 'Steiners', 'dark', 'feel', 'like', 'bar']\",\n",
              "       \"['Wow', 'spicy', 'delicious']\",\n",
              "       \"['If', 'not', 'familiar', 'check']\",\n",
              "       \"['I', 'take', 'business', 'dinner', 'dollar', 'elsewhere']\",\n",
              "       \"['I', 'would', 'love', 'go', 'back']\",\n",
              "       \"['Anyway', 'FS', 'restaurant', 'wonderful', 'breakfastlunch']\",\n",
              "       \"['Nothing', 'special']\",\n",
              "       \"['Each', 'day', 'week', 'different', 'deal', 'delicious']\",\n",
              "       \"['Not', 'mention', 'combination', 'pear', 'almond', 'bacon', 'big', 'winner']\",\n",
              "       \"['Will', 'not', 'back']\", \"['Sauce', 'tasteless']\",\n",
              "       \"['The', 'food', 'delicious', 'spicy', 'enough', 'sure', 'ask', 'spicier', 'prefer', 'way']\",\n",
              "       \"['My', 'ribeye', 'steak', 'cooked', 'perfectly', 'great', 'mesquite', 'flavor']\",\n",
              "       \"['I', 'not', 'think', 'going', 'back', 'anytime', 'soon']\",\n",
              "       \"['Food', 'gooodd']\",\n",
              "       \"['I', 'far', 'sushi', 'connoisseur', 'I', 'definitely', 'tell', 'difference', 'good', 'food', 'bad', 'food', 'certainly', 'bad', 'food']\",\n",
              "       \"['I', 'insulted']\",\n",
              "       \"['The', 'last', '3', 'time', 'I', 'lunch', 'bad']\",\n",
              "       \"['The', 'chicken', 'wing', 'contained', 'driest', 'chicken', 'meat', 'I', 'ever', 'eaten']\",\n",
              "       \"['The', 'food', 'good', 'I', 'enjoyed', 'every', 'mouthful', 'enjoyable', 'relaxed', 'venue', 'couple', 'small', 'family', 'group', 'etc']\",\n",
              "       \"['Nargile', 'I', 'think', 'great']\",\n",
              "       \"['Best', 'tater', 'tot', 'southwest']\",\n",
              "       \"['We', 'loved', 'place']\",\n",
              "       \"['Definitely', 'not', 'worth', '3', 'I', 'paid']\",\n",
              "       \"['The', 'vanilla', 'ice', 'cream', 'creamy', 'smooth', 'profiterole', 'chou', 'pastry', 'fresh', 'enough']\",\n",
              "       \"['I', 'Am', 'AZ', 'time', 'new', 'spot']\",\n",
              "       \"['The', 'manager', 'worst']\",\n",
              "       \"['The', 'inside', 'really', 'quite', 'nice', 'clean']\",\n",
              "       \"['The', 'food', 'outstanding', 'price', 'reasonable']\",\n",
              "       \"['I', 'not', 'think', 'I', 'running', 'back', 'Carlys', 'anytime', 'soon', 'food']\",\n",
              "       \"['This', 'due', 'fact', 'took', '20', 'minute', 'acknowledged', 'another', '35', 'minute', 'get', 'foodand', 'kept', 'forgetting', 'thing']\",\n",
              "       \"['Love', 'margarita']\",\n",
              "       \"['This', 'first', 'Vegas', 'buffet', 'not', 'disappoint']\",\n",
              "       \"['Very', 'good', 'though']\",\n",
              "       \"['The', 'one', 'note', 'ventilation', 'could', 'use', 'upgrading']\",\n",
              "       \"['Great', 'pork', 'sandwich']\", \"['Do', 'not', 'waste', 'time']\",\n",
              "       \"['Total', 'letdown', 'I', 'would', 'much', 'rather', 'go', 'Camelback', 'Flower', 'Shop', 'Cartel', 'Coffee']\",\n",
              "       \"['Third', 'cheese', 'friend', 'burger', 'cold']\",\n",
              "       \"['We', 'enjoy', 'pizza', 'brunch']\",\n",
              "       \"['The', 'steak', 'well', 'trimmed', 'also', 'perfectly', 'cooked']\",\n",
              "       \"['We', 'group', '70', 'claimed', 'would', '40', 'handled', 'u', 'beautifully']\",\n",
              "       \"['I', 'LOVED']\",\n",
              "       \"['We', 'asked', 'bill', 'leave', 'without', 'eating', 'not', 'bring', 'either']\",\n",
              "       \"['This', 'place', 'jewel', 'Las', 'Vegas', 'exactly', 'I', 'hoping', 'find', 'nearly', 'ten', 'year', 'living']\",\n",
              "       \"['Seafood', 'limited', 'boiled', 'shrimp', 'crab', 'leg', 'crab', 'leg', 'definitely', 'not', 'taste', 'fresh']\",\n",
              "       \"['The', 'selection', 'food', 'not', 'best']\",\n",
              "       \"['Delicious', 'I', 'absolutely', 'back']\",\n",
              "       \"['This', 'not', 'small', 'family', 'restaurant', 'fine', 'dining', 'establishment']\",\n",
              "       \"['They', 'toro', 'tartare', 'cavier', 'extraordinary', 'I', 'liked', 'thinly', 'sliced', 'wagyu', 'white', 'truffle']\",\n",
              "       \"['I', 'not', 'think', 'I', 'back', 'long', 'time']\",\n",
              "       \"['It', 'attached', 'gas', 'station', 'rarely', 'good', 'sign']\",\n",
              "       \"['How', 'awesome']\", \"['I', 'back', 'many', 'time', 'soon']\",\n",
              "       \"['The', 'menu', 'much', 'good', 'stuff', 'could', 'not', 'decide']\",\n",
              "       \"['Worse', 'humiliated', 'worker', 'right', 'front', 'meBunch', 'horrible', 'name', 'calling']\",\n",
              "       \"['CONCLUSION', 'Very', 'filling', 'meal']\",\n",
              "       \"['Their', 'daily', 'special', 'always', 'hit', 'group']\",\n",
              "       \"['And', 'tragedy', 'struck']\",\n",
              "       \"['The', 'pancake', 'also', 'really', 'good', 'pretty', 'large']\",\n",
              "       \"['This', 'first', 'crawfish', 'experience', 'delicious']\",\n",
              "       \"['Their', 'monster', 'chicken', 'fried', 'steak', 'egg', 'time', 'favorite']\",\n",
              "       \"['Waitress', 'sweet', 'funny']\",\n",
              "       \"['I', 'also', 'taste', 'Moms', 'multigrain', 'pumpkin', 'pancake', 'pecan', 'butter', 'amazing', 'fluffy', 'delicious']\",\n",
              "       \"['I', 'would', 'rather', 'eat', 'airline', 'food', 'seriously']\",\n",
              "       \"['Can', 'not', 'say', 'enough', 'good', 'thing', 'place']\",\n",
              "       \"['The', 'ambiance', 'incredible']\",\n",
              "       \"['The', 'waitress', 'manager', 'friendly']\",\n",
              "       \"['I', 'would', 'not', 'recommend', 'place']\",\n",
              "       \"['Overall', 'I', 'not', 'impressed', 'Noca']\",\n",
              "       \"['My', 'gyro', 'basically', 'lettuce']\",\n",
              "       \"['Terrible', 'service']\", \"['Thoroughly', 'disappointed']\",\n",
              "       \"['I', 'not', 'much', 'pasta', 'I', 'love', 'homemade', 'hand', 'made', 'pasta', 'thin', 'pizza']\",\n",
              "       \"['Give', 'try', 'happy']\",\n",
              "       \"['By', 'far', 'BEST', 'cheesecurds', 'ever']\",\n",
              "       \"['Reasonably', 'priced', 'also']\",\n",
              "       \"['Everything', 'perfect', 'night']\",\n",
              "       \"['The', 'food', 'good', 'typical', 'bar', 'food']\",\n",
              "       \"['drive', 'get']\",\n",
              "       \"['At', 'first', 'glance', 'lovely', 'bakery', 'cafe', 'nice', 'ambiance', 'clean', 'friendly', 'staff']\",\n",
              "       \"['Anyway', 'I', 'not', 'think', 'go', 'back']\",\n",
              "       \"['Point', 'finger', 'item', 'menu', 'order', 'not', 'disappointed']\",\n",
              "       \"['Oh', 'thing', 'beauty', 'restaurant']\",\n",
              "       \"['If', 'not', 'gone', 'GO', 'NOW']\",\n",
              "       \"['A', 'greasy', 'unhealthy', 'meal']\",\n",
              "       \"['first', 'time', 'might', 'last']\",\n",
              "       \"['Those', 'burger', 'amazing']\",\n",
              "       \"['Similarly', 'delivery', 'man', 'not', 'say', 'word', 'apology', 'food', '45', 'minute', 'late']\",\n",
              "       \"['And', 'way', 'expensive']\",\n",
              "       \"['Be', 'sure', 'order', 'dessert', 'even', 'need', 'pack', 'togo', 'tiramisu', 'cannoli', 'die']\",\n",
              "       \"['This', 'first', 'time', 'I', 'can', 'not', 'wait', 'next']\",\n",
              "       \"['The', 'bartender', 'also', 'nice']\",\n",
              "       \"['Everything', 'good', 'tasty']\",\n",
              "       \"['This', 'place', 'two', 'thumb', 'upway']\",\n",
              "       \"['The', 'best', 'place', 'Vegas', 'breakfast', 'check', 'Sat', 'Sun']\",\n",
              "       \"['If', 'love', 'authentic', 'Mexican', 'food', 'want', 'whole', 'bunch', 'interesting', 'yet', 'delicious', 'meat', 'choose', 'need', 'try', 'place']\",\n",
              "       \"['Terrible', 'management']\",\n",
              "       \"['An', 'excellent', 'new', 'restaurant', 'experienced', 'Frenchman']\",\n",
              "       \"['If', 'zero', 'star', 'I', 'would', 'give', 'zero', 'star']\",\n",
              "       \"['Great', 'steak', 'great', 'side', 'great', 'wine', 'amazing', 'dessert']\",\n",
              "       \"['Worst', 'martini', 'ever']\",\n",
              "       \"['The', 'steak', 'shrimp', 'opinion', 'best', 'entree', 'GC']\",\n",
              "       \"['I', 'opportunity', 'today', 'sample', 'amazing', 'pizza']\",\n",
              "       \"['We', 'waited', 'thirty', 'minute', 'seated', 'although', '8', 'vacant', 'table', 'folk', 'waiting']\",\n",
              "       \"['The', 'yellowtail', 'carpaccio', 'melt', 'mouth', 'fresh']\",\n",
              "       \"['I', 'not', 'try', 'going', 'back', 'even', 'empty']\",\n",
              "       \"['No', 'I', 'going', 'eat', 'potato', 'I', 'found', 'stranger', 'hair']\",\n",
              "       \"['Just', 'spicy', 'enough', 'Perfect', 'actually']\",\n",
              "       \"['Last', 'night', 'second', 'time', 'dining', 'I', 'happy', 'I', 'decided', 'go', 'back']\",\n",
              "       \"['not', 'even', 'hello', 'right']\",\n",
              "       \"['The', 'dessert', 'bit', 'strange']\",\n",
              "       \"['My', 'boyfriend', 'I', 'came', 'first', 'time', 'recent', 'trip', 'Vegas', 'could', 'not', 'pleased', 'quality', 'food', 'service']\",\n",
              "       \"['I', 'really', 'recommend', 'place', 'go', 'wrong', 'donut', 'place']\",\n",
              "       \"['Nice', 'ambiance']\",\n",
              "       \"['I', 'would', 'recommend', 'saving', 'room']\",\n",
              "       \"['I', 'guess', 'maybe', 'went', 'night', 'disgraceful']\",\n",
              "       \"['However', 'recent', 'experience', 'particular', 'location', 'not', 'good']\",\n",
              "       \"['I', 'know', 'not', 'like', 'restaurant', 'something']\",\n",
              "       \"['AVOID', 'THIS', 'ESTABLISHMENT']\",\n",
              "       \"['I', 'think', 'restaurant', 'suffers', 'not', 'trying', 'hard', 'enough']\",\n",
              "       \"['All', 'tapa', 'dish', 'delicious']\", \"['I', 'heart', 'place']\",\n",
              "       \"['My', 'salad', 'bland', 'vinegrette', 'baby', 'green', 'heart', 'Palm']\",\n",
              "       \"['After', 'two', 'I', 'felt', 'disgusting']\",\n",
              "       \"['A', 'good', 'time']\",\n",
              "       \"['I', 'believe', 'place', 'great', 'stop', 'huge', 'belly', 'hankering', 'sushi']\",\n",
              "       \"['Generous', 'portion', 'great', 'taste']\",\n",
              "       \"['I', 'never', 'go', 'back', 'place', 'never', 'ever', 'recommended', 'place', 'anyone']\",\n",
              "       \"['The', 'server', 'went', 'back', 'forth', 'several', 'time', 'not', 'even', 'much', 'Are', 'helped']\",\n",
              "       \"['Food', 'delicious']\", \"['AN', 'HOUR', 'seriously']\",\n",
              "       \"['I', 'consider', 'theft']\",\n",
              "       \"['Eew', 'This', 'location', 'need', 'complete', 'overhaul']\",\n",
              "       \"['We', 'recently', 'witnessed', 'poor', 'quality', 'management', 'towards', 'guest', 'well']\",\n",
              "       \"['Waited', 'waited', 'waited']\",\n",
              "       \"['He', 'also', 'came', 'back', 'check', 'u', 'regularly', 'excellent', 'service']\",\n",
              "       \"['Our', 'server', 'super', 'nice', 'checked', 'u', 'many', 'time']\",\n",
              "       \"['The', 'pizza', 'tasted', 'old', 'super', 'chewy', 'not', 'good', 'way']\",\n",
              "       \"['I', 'swung', 'give', 'try', 'deeply', 'disappointed']\",\n",
              "       \"['Service', 'good', 'company', 'better']\",\n",
              "       \"['The', 'staff', 'also', 'friendly', 'efficient']\",\n",
              "       \"['As', 'service', 'I', 'fan', 'quick', 'served', 'nice', 'folk']\",\n",
              "       \"['Boy', 'sucker', 'dry']\", \"['Over', 'rated']\",\n",
              "       \"['If', 'look', 'authentic', 'Thai', 'food', 'go', 'else']\",\n",
              "       \"['Their', 'steak', '100', 'recommended']\",\n",
              "       \"['After', 'I', 'pulled', 'car', 'I', 'waited', 'another', '15', 'minute', 'acknowledged']\",\n",
              "       \"['Great', 'food', 'great', 'service', 'clean', 'friendly', 'setting']\",\n",
              "       \"['All', 'I', 'assure', 'I', 'back']\",\n",
              "       \"['I', 'hate', 'thing', 'much', 'cheap', 'quality', 'black', 'olive']\",\n",
              "       \"['My', 'breakfast', 'perpared', 'great', 'beautiful', 'presentation', '3', 'giant', 'slice', 'Toast', 'lightly', 'dusted', 'powdered', 'sugar']\",\n",
              "       \"['The', 'kid', 'play', 'area', 'NASTY']\",\n",
              "       \"['Great', 'place', 'fo', 'take', 'eat']\",\n",
              "       \"['The', 'waitress', 'friendly', 'happy', 'accomodate', 'veganveggie', 'option']\",\n",
              "       \"['OMG', 'I', 'felt', 'like', 'I', 'never', 'eaten', 'Thai', 'food', 'dish']\",\n",
              "       \"['It', 'extremely', 'crumby', 'pretty', 'tasteless']\",\n",
              "       \"['It', 'pale', 'color', 'instead', 'nice', 'char', 'NO', 'flavor']\",\n",
              "       \"['The', 'crouton', 'also', 'taste', 'homemade', 'extra', 'plus']\",\n",
              "       \"['I', 'got', 'home', 'see', 'driest', 'damn', 'wing', 'ever']\",\n",
              "       \"['It', 'regular', 'stop', 'trip', 'Phoenix']\",\n",
              "       \"['I', 'really', 'enjoyed', 'Crema', 'Caf', 'expanded', 'I', 'even', 'told', 'friend', 'BEST', 'breakfast']\",\n",
              "       \"['Not', 'good', 'money']\",\n",
              "       \"['I', 'miss', 'wish', 'one', 'Philadelphia']\",\n",
              "       \"['We', 'got', 'sitting', 'fairly', 'fast', 'ended', 'waiting', '40', 'minute', 'place', 'order', 'another', '30', 'minute', 'food', 'arrived']\",\n",
              "       \"['They', 'also', 'best', 'cheese', 'crisp', 'town']\",\n",
              "       \"['Good', 'value', 'great', 'food', 'great', 'service']\",\n",
              "       \"['Could', 'not', 'ask', 'satisfying', 'meal']\",\n",
              "       \"['The', 'food', 'good']\", \"['It', 'awesome']\",\n",
              "       \"['I', 'wanted', 'leave']\",\n",
              "       \"['We', 'made', 'drive', 'way', 'North', 'Scottsdale', 'I', 'not', 'one', 'bit', 'disappointed']\",\n",
              "       \"['I', 'not', 'eating']\",\n",
              "       \"['THE', 'OWNERS', 'REALLY', 'REALLY', 'need', 'quit', 'soooooo', 'cheap', 'let', 'wrap', 'freaking', 'sandwich', 'two', 'paper', 'not', 'one']\",\n",
              "       \"['I', 'checked', 'place', 'couple', 'year', 'ago', 'not', 'impressed']\",\n",
              "       \"['The', 'chicken', 'I', 'got', 'definitely', 'reheated', 'ok', 'wedge', 'cold', 'soggy']\",\n",
              "       \"['Sorry', 'I', 'not', 'getting', 'food', 'anytime', 'soon']\",\n",
              "       \"['An', 'absolute', 'must', 'visit']\",\n",
              "       \"['The', 'cow', 'tongue', 'cheek', 'taco', 'amazing']\",\n",
              "       \"['My', 'friend', 'not', 'like', 'Bloody', 'Mary']\",\n",
              "       \"['Despite', 'hard', 'I', 'rate', 'business', 'actually', 'rare', 'give', '1', 'star']\",\n",
              "       \"['They', 'really', 'want', 'make', 'experience', 'good', 'one']\",\n",
              "       \"['I', 'not', 'return']\",\n",
              "       \"['I', 'chicken', 'Pho', 'tasted', 'bland']\",\n",
              "       \"['Very', 'disappointing']\",\n",
              "       \"['The', 'grilled', 'chicken', 'tender', 'yellow', 'saffron', 'seasoning']\",\n",
              "       \"['drive', 'thru', 'mean', 'not', 'want', 'wait', 'around', 'half', 'hour', 'food', 'somehow', 'end', 'going', 'make', 'u', 'wait', 'wait']\",\n",
              "       \"['Pretty', 'awesome', 'place']\", \"['Ambience', 'perfect']\",\n",
              "       \"['Best', 'luck', 'rude', 'noncustomer', 'service', 'focused', 'new', 'management']\",\n",
              "       \"['Any', 'grandmother', 'make', 'roasted', 'chicken', 'better', 'one']\",\n",
              "       \"['I', 'asked', 'multiple', 'time', 'wine', 'list', 'time', 'ignored', 'I', 'went', 'hostess', 'got', 'one']\",\n",
              "       \"['The', 'staff', 'always', 'super', 'friendly', 'helpful', 'especially', 'cool', 'bring', 'two', 'small', 'boy', 'baby']\",\n",
              "       \"['Four', 'star', 'food', 'guy', 'blue', 'shirt', 'great', 'vibe', 'still', 'letting', 'u', 'eat']\",\n",
              "       \"['The', 'roast', 'beef', 'sandwich', 'tasted', 'really', 'good']\",\n",
              "       \"['Same', 'evening', 'I', 'drastically', 'sick']\",\n",
              "       \"['Highquality', 'chicken', 'chicken', 'Caesar', 'salad']\",\n",
              "       \"['Ordered', 'burger', 'rare', 'came', 'done']\",\n",
              "       \"['We', 'promptly', 'greeted', 'seated']\",\n",
              "       \"['Tried', 'go', 'lunch', 'madhouse']\",\n",
              "       \"['I', 'proven', 'dead', 'wrong', 'sushi', 'bar', 'not', 'quality', 'great', 'service', 'fast', 'food', 'impeccable']\",\n",
              "       \"['After', 'waiting', 'hour', 'seated', 'I', 'not', 'greatest', 'mood']\",\n",
              "       \"['This', 'good', 'joint']\",\n",
              "       \"['The', 'Macarons', 'insanely', 'good']\",\n",
              "       \"['I', 'not', 'eating']\",\n",
              "       \"['Our', 'waiter', 'attentive', 'friendly', 'informative']\",\n",
              "       \"['Maybe', 'not', 'cold', 'would', 'somewhat', 'edible']\",\n",
              "       \"['This', 'place', 'lot', 'promise', 'fails', 'deliver']\",\n",
              "       \"['Very', 'bad', 'Experience']\", \"['What', 'mistake']\",\n",
              "       \"['Food', 'average', 'best']\", \"['Great', 'food']\",\n",
              "       \"['We', 'not', 'going', 'back', 'anytime', 'soon']\",\n",
              "       \"['Very', 'Very', 'Disappointed', 'ordered', '35', 'Big', 'Bay', 'Plater']\",\n",
              "       \"['Great', 'place', 'relax', 'awesome', 'burger', 'beer']\",\n",
              "       \"['It', 'PERFECT', 'sitdown', 'family', 'meal', 'get', 'together', 'friend']\",\n",
              "       \"['Not', 'much', 'flavor', 'poorly', 'constructed']\",\n",
              "       \"['The', 'patio', 'seating', 'comfortable']\",\n",
              "       \"['The', 'fried', 'rice', 'dry', 'well']\",\n",
              "       \"['Hands', 'favorite', 'Italian', 'restaurant']\",\n",
              "       \"['That', 'SCREAMS', 'LEGIT', 'booksomethats', 'also', 'pretty', 'rare', 'Vegas']\",\n",
              "       \"['It', 'not', 'fun', 'experience']\",\n",
              "       \"['The', 'atmosphere', 'great', 'lovely', 'duo', 'violinist', 'playing', 'song', 'requested']\",\n",
              "       \"['I', 'personally', 'love', 'hummus', 'pita', 'baklava', 'falafel', 'Baba', 'Ganoush', 'amazing', 'eggplant']\",\n",
              "       \"['Very', 'convenient', 'since', 'staying', 'MGM']\",\n",
              "       \"['The', 'owner', 'super', 'friendly', 'staff', 'courteous']\",\n",
              "       \"['Both', 'great']\", \"['Eclectic', 'selection']\",\n",
              "       \"['The', 'sweet', 'potato', 'tot', 'good', 'onion', 'ring', 'perfection', 'close', 'I']\",\n",
              "       \"['The', 'staff', 'attentive']\",\n",
              "       \"['And', 'chef', 'generous', 'time', 'even', 'came', 'around', 'twice', 'take', 'picture']\",\n",
              "       \"['The', 'owner', 'used', 'work', 'Nobu', 'place', 'really', 'similar', 'half', 'price']\",\n",
              "       \"['Google', 'mediocre', 'I', 'imagine', 'Smashburger', 'pop']\",\n",
              "       \"['not', 'go']\", \"['I', 'promise', 'not', 'disappoint']\",\n",
              "       \"['As', 'sushi', 'lover', 'avoid', 'place', 'mean']\",\n",
              "       \"['What', 'great', 'double', 'cheeseburger']\",\n",
              "       \"['Awesome', 'service', 'food']\",\n",
              "       \"['A', 'fantastic', 'neighborhood', 'gem']\",\n",
              "       \"['I', 'can', 'not', 'wait', 'go', 'back']\",\n",
              "       \"['The', 'plantain', 'worst', 'I', 'ever', 'tasted']\",\n",
              "       \"['It', 'great', 'place', 'I', 'highly', 'recommend']\",\n",
              "       \"['Service', 'slow', 'not', 'attentive']\",\n",
              "       \"['I', 'gave', '5', 'star', 'I', 'giving', '5', 'star']\",\n",
              "       \"['Your', 'staff', 'spends', 'time', 'talking']\",\n",
              "       \"['Dessert', 'Panna', 'Cotta', 'amazing']\",\n",
              "       \"['Very', 'good', 'food', 'great', 'atmosphere1']\",\n",
              "       \"['Damn', 'good', 'steak']\", \"['Total', 'brunch', 'fail']\",\n",
              "       \"['Prices', 'reasonable', 'flavor', 'spot', 'sauce', 'home', 'made', 'slaw', 'not', 'drenched', 'mayo']\",\n",
              "       \"['The', 'decor', 'nice', 'piano', 'music', 'soundtrack', 'pleasant']\",\n",
              "       \"['The', 'steak', 'amazingrge', 'fillet', 'relleno', 'best', 'seafood', 'plate', 'ever']\",\n",
              "       \"['Good', 'food', 'good', 'service']\",\n",
              "       \"['It', 'absolutely', 'amazing']\",\n",
              "       \"['I', 'probably', 'not', 'back', 'honest']\",\n",
              "       \"['definitely', 'back']\",\n",
              "       \"['The', 'sergeant', 'pepper', 'beef', 'sandwich', 'auju', 'sauce', 'excellent', 'sandwich', 'well']\",\n",
              "       \"['Hawaiian', 'Breeze', 'Mango', 'Magic', 'Pineapple', 'Delight', 'smoothy', 'I', 'tried', 'far', 'good']\",\n",
              "       \"['Went', 'lunch', 'service', 'slow']\",\n",
              "       \"['We', 'much', 'say', 'place', 'walked', 'expected', 'amazing', 'quickly', 'disappointed']\",\n",
              "       \"['I', 'mortified']\", \"['Needless', 'say', 'never', 'back']\",\n",
              "       \"['Anyways', 'The', 'food', 'definitely', 'not', 'filling', 'price', 'pay', 'expect']\",\n",
              "       \"['The', 'chip', 'came', 'dripping', 'grease', 'mostly', 'not', 'edible']\",\n",
              "       \"['I', 'not', 'really', 'impressed', 'Strip', 'Steak']\",\n",
              "       \"['Have', 'going', 'since', '2007', 'every', 'meal', 'awesome']\",\n",
              "       \"['Our', 'server', 'nice', 'attentive', 'serving', 'staff']\",\n",
              "       \"['The', 'cashier', 'friendly', 'even', 'brought', 'food']\",\n",
              "       \"['I', 'work', 'hospitality', 'industry', 'Paradise', 'Valley', 'refrained', 'recommending', 'Cibo', 'longer']\",\n",
              "       \"['The', 'atmosphere', 'fun']\",\n",
              "       \"['Would', 'not', 'recommend', 'others']\",\n",
              "       \"['Service', 'quick', 'even', 'go', 'order', 'like', 'like']\",\n",
              "       \"['I', 'mean', 'really', 'get', 'famous', 'fish', 'chip', 'terrible']\",\n",
              "       \"['That', 'said', 'mouth', 'belly', 'still', 'quite', 'pleased']\",\n",
              "       \"['Not', 'thing']\", \"['2', 'Thumbs', 'Up']\",\n",
              "       \"['If', 'reading', 'please', 'not', 'go']\",\n",
              "       \"['I', 'loved', 'grilled', 'pizza', 'reminded', 'legit', 'Italian', 'pizza']\",\n",
              "       \"['Only', 'Pros', 'Large', 'seating', 'area', 'Nice', 'bar', 'area', 'Great', 'simple', 'drink', 'menu', 'The', 'BEST', 'brick', 'oven', 'pizza', 'homemade', 'dough']\",\n",
              "       \"['They', 'really', 'nice', 'atmosphere']\",\n",
              "       \"['Tonight', 'I', 'Elk', 'Filet', 'specialand', 'sucked']\",\n",
              "       \"['After', 'one', 'bite', 'I', 'hooked']\",\n",
              "       \"['We', 'ordered', 'old', 'classic', 'new', 'dish', 'going', 'time', 'sorely', 'disappointed', 'everything']\",\n",
              "       \"['Cute', 'quaint', 'simple', 'honest']\",\n",
              "       \"['The', 'chicken', 'deliciously', 'seasoned', 'perfect', 'fry', 'outside', 'moist', 'chicken', 'inside']\",\n",
              "       \"['The', 'food', 'great', 'always', 'compliment', 'chef']\",\n",
              "       \"['Special', 'thanks', 'Dylan', 'T', 'recommendation', 'order', 'All', 'yummy', 'tummy']\",\n",
              "       \"['Awesome', 'selection', 'beer']\",\n",
              "       \"['Great', 'food', 'awesome', 'service']\",\n",
              "       \"['One', 'nice', 'thing', 'added', 'gratuity', 'bill', 'since', 'party', 'larger', '6', '8', 'not', 'expect', 'tip']\",\n",
              "       \"['A', 'FLY', 'apple', 'juice', 'A', 'FLY']\",\n",
              "       \"['The', 'Han', 'Nan', 'Chicken', 'also', 'tasty']\",\n",
              "       \"['As', 'service', 'I', 'thought', 'good']\",\n",
              "       \"['The', 'food', 'barely', 'lukewarm', 'must', 'sitting', 'waiting', 'server', 'bring', 'u']\",\n",
              "       \"['Ryans', 'Bar', 'definitely', 'one', 'Edinburgh', 'establishment', 'I', 'not', 'revisiting']\",\n",
              "       \"['Nicest', 'Chinese', 'restaurant', 'I']\",\n",
              "       \"['Overall', 'I', 'like', 'food', 'service']\",\n",
              "       \"['They', 'also', 'serve', 'Indian', 'naan', 'bread', 'hummus', 'spicy', 'pine', 'nut', 'sauce', 'world']\",\n",
              "       \"['Probably', 'never', 'coming', 'back', 'would', 'not', 'recommend']\",\n",
              "       \"['Friends', 'pasta', 'also', 'bad', 'barely', 'touched']\",\n",
              "       \"['Try', 'airport', 'experience', 'tasty', 'food', 'speedy', 'friendly', 'service']\",\n",
              "       \"['I', 'love', 'decor', 'Chinese', 'calligraphy', 'wall', 'paper']\",\n",
              "       \"['Never', 'anything', 'complain']\",\n",
              "       \"['The', 'restaurant', 'clean', 'family', 'restaurant', 'feel']\",\n",
              "       \"['It', 'way', 'fried']\",\n",
              "       \"['I', 'not', 'sure', 'long', 'stood', 'long', 'enough', 'begin', 'feel', 'awkwardly', 'place']\",\n",
              "       \"['When', 'I', 'opened', 'sandwich', 'I', 'impressed', 'not', 'good', 'way']\",\n",
              "       \"['Will', 'not', 'back']\",\n",
              "       \"['There', 'warm', 'feeling', 'service', 'I', 'felt', 'like', 'guest', 'special', 'treat']\",\n",
              "       \"['An', 'extensive', 'menu', 'provides', 'lot', 'option', 'breakfast']\",\n",
              "       \"['I', 'always', 'order', 'vegetarian', 'menu', 'dinner', 'wide', 'array', 'option', 'choose']\",\n",
              "       \"['I', 'watched', 'price', 'inflate', 'portion', 'get', 'smaller', 'management', 'attitude', 'grow', 'rapidly']\",\n",
              "       \"['Wonderful', 'lil', 'tapa', 'ambience', 'made', 'feel', 'warm', 'fuzzy', 'inside']\",\n",
              "       \"['I', 'got', 'enjoy', 'seafood', 'salad', 'fabulous', 'vinegrette']\",\n",
              "       \"['The', 'wonton', 'thin', 'not', 'thick', 'chewy', 'almost', 'melt', 'mouth']\",\n",
              "       \"['Level', '5', 'spicy', 'perfect', 'spice', 'not', 'overwhelm', 'soup']\",\n",
              "       \"['We', 'sat', 'right', 'time', 'server', 'get', 'go', 'FANTASTIC']\",\n",
              "       \"['Main', 'thing', 'I', 'not', 'enjoy', 'crowd', 'older', 'crowd', 'around', 'mid', '30']\",\n",
              "       \"['When', 'I', 'side', 'town', 'definitely', 'spot', 'I', 'hit']\",\n",
              "       \"['I', 'wait', '30', 'minute', 'get', 'drink', 'longer', 'get', '2', 'arepas']\",\n",
              "       \"['This', 'GREAT', 'place', 'eat']\",\n",
              "       \"['The', 'jalapeno', 'bacon', 'soooo', 'good']\",\n",
              "       \"['The', 'service', 'poor', 'nice']\",\n",
              "       \"['Food', 'good', 'service', 'good', 'Prices', 'good']\",\n",
              "       \"['The', 'place', 'not', 'clean', 'food', 'oh', 'stale']\",\n",
              "       \"['The', 'chicken', 'dish', 'OK', 'beef', 'like', 'shoe', 'leather']\",\n",
              "       \"['But', 'service', 'beyond', 'bad']\", \"['I', 'happy']\",\n",
              "       \"['Tasted', 'like', 'dirt']\",\n",
              "       \"['One', 'place', 'Phoenix', 'I', 'would', 'definately', 'go', 'back']\",\n",
              "       \"['The', 'block', 'amazing']\",\n",
              "       \"['It', 'close', 'house', 'lowkey', 'nonfancy', 'affordable', 'price', 'good', 'food']\",\n",
              "       \"['Both', 'Hot', 'Sour', 'Egg', 'Flower', 'Soups', 'absolutely', '5', 'Stars']\",\n",
              "       \"['My', 'sashimi', 'poor', 'quality', 'soggy', 'tasteless']\",\n",
              "       \"['Great', 'time', 'family', 'dinner', 'Sunday', 'night']\",\n",
              "       \"['food', 'not', 'tasty', 'not', 'say', 'real', 'traditional', 'Hunan', 'style']\",\n",
              "       \"['What', 'bother', 'slow', 'service']\",\n",
              "       \"['The', 'flair', 'bartender', 'absolutely', 'amazing']\",\n",
              "       \"['Their', 'frozen', 'margarita', 'WAY', 'sugary', 'taste']\",\n",
              "       \"['These', 'good', 'ordered', 'twice']\",\n",
              "       \"['So', 'nutshell', '1', 'The', 'restaraunt', 'smell', 'like', 'combination', 'dirty', 'fish', 'market', 'sewer']\",\n",
              "       \"['My', 'girlfriend', 'veal', 'bad']\",\n",
              "       \"['Unfortunately', 'not', 'good']\",\n",
              "       \"['I', 'pretty', 'satifying', 'experience']\",\n",
              "       \"['Join', 'club', 'get', 'awesome', 'offer', 'via', 'email']\",\n",
              "       \"['Perfect', 'someone', 'like', 'beer', 'ice', 'cold', 'case', 'even', 'colder']\",\n",
              "       \"['Bland', 'flavorless', 'good', 'way', 'describing', 'barely', 'tepid', 'meat']\",\n",
              "       \"['The', 'chain', 'I', 'no', 'fan', 'beat', 'place', 'easily']\",\n",
              "       \"['The', 'nacho', 'MUST', 'HAVE']\",\n",
              "       \"['We', 'not', 'coming', 'back']\",\n",
              "       \"['I', 'not', 'many', 'word', 'say', 'place', 'everything', 'pretty', 'well']\",\n",
              "       \"['The', 'staff', 'super', 'nice', 'quick', 'even', 'crazy', 'crowd', 'downtown', 'jury', 'lawyer', 'court', 'staff']\",\n",
              "       \"['Great', 'atmosphere', 'friendly', 'fast', 'service']\",\n",
              "       \"['When', 'I', 'received', 'Pita', 'huge', 'lot', 'meat', 'thumb']\",\n",
              "       \"['Once', 'food', 'arrives', 'meh']\",\n",
              "       \"['Paying', '785', 'hot', 'dog', 'fry', 'look', 'like', 'came', 'kid', 'meal', 'Wienerschnitzel', 'not', 'idea', 'good', 'meal']\",\n",
              "       \"['The', 'classic', 'Maine', 'Lobster', 'Roll', 'fantastic']\",\n",
              "       \"['My', 'brother', 'law', 'work', 'mall', 'ate', 'day', 'guess', 'sick', 'night']\",\n",
              "       \"['So', 'good', 'I', 'going', 'review', 'place', 'twice', 'hereas', 'tribute', 'place', 'tribute', 'event', 'held', 'last', 'night']\",\n",
              "       \"['The', 'chip', 'salsa', 'really', 'good', 'salsa', 'fresh']\",\n",
              "       \"['This', 'place', 'great']\", \"['Mediocre', 'food']\",\n",
              "       \"['Once', 'get', 'inside', 'impressed', 'place']\",\n",
              "       \"['I', 'super', 'pissd']\",\n",
              "       \"['And', 'service', 'super', 'friendly']\",\n",
              "       \"['Why', 'sad', 'little', 'vegetable', 'overcooked']\",\n",
              "       \"['This', 'place', 'nice', 'surprise']\",\n",
              "       \"['They', 'goldencrispy', 'delicious']\",\n",
              "       \"['I', 'high', 'hope', 'place', 'since', 'burger', 'cooked', 'charcoal', 'grill', 'unfortunately', 'taste', 'fell', 'flat', 'way', 'flat']\",\n",
              "       \"['I', 'could', 'eat', 'bruschetta', 'day', 'devine']\",\n",
              "       \"['Not', 'single', 'employee', 'came', 'see', 'OK', 'even', 'needed', 'water', 'refill', 'finally', 'served', 'u', 'food']\",\n",
              "       \"['Lastly', 'mozzarella', 'stick', 'best', 'thing', 'ordered']\",\n",
              "       \"['The', 'first', 'time', 'I', 'ever', 'came', 'I', 'amazing', 'experience', 'I', 'still', 'tell', 'people', 'awesome', 'duck']\",\n",
              "       \"['The', 'server', 'negligent', 'need', 'made', 'u', 'feel', 'unwelcome', 'I', 'would', 'not', 'suggest', 'place']\",\n",
              "       \"['The', 'service', 'terrible', 'though']\",\n",
              "       \"['This', 'place', 'overpriced', 'not', 'consistent', 'boba', 'really', 'OVERPRICED']\",\n",
              "       \"['It', 'packed']\", \"['I', 'love', 'place']\",\n",
              "       \"['I', 'say', 'dessert', 'yummy']\", \"['The', 'food', 'terrible']\",\n",
              "       \"['The', 'seasonal', 'fruit', 'fresh', 'white', 'peach', 'puree']\",\n",
              "       \"['It', 'kept', 'getting', 'worse', 'worse', 'I', 'officially', 'done']\",\n",
              "       \"['This', 'place', 'honestly', 'blown']\",\n",
              "       \"['But', 'I', 'definitely', 'would', 'not', 'eat']\",\n",
              "       \"['Do', 'not', 'waste', 'money']\",\n",
              "       \"['I', 'love', 'put', 'food', 'nice', 'plastic', 'container', 'opposed', 'cramming', 'little', 'paper', 'takeout', 'box']\",\n",
              "       \"['The', 'crpe', 'delicate', 'thin', 'moist']\",\n",
              "       \"['Awful', 'service']\", \"['Will', 'not', 'ever', 'go']\",\n",
              "       \"['Food', 'quality', 'horrible']\",\n",
              "       \"['For', 'price', 'I', 'think', 'place', 'I', 'would', 'much', 'rather', 'gone']\",\n",
              "       \"['The', 'service', 'fair', 'best']\",\n",
              "       \"['I', 'love', 'sushi', 'I', 'found', 'Kabuki', 'overpriced', 'overhip', 'underservices']\",\n",
              "       \"['Do', 'favor', 'stay', 'away', 'dish']\",\n",
              "       \"['Very', 'poor', 'service']\",\n",
              "       \"['No', 'one', 'table', 'thought', 'food', 'average', 'worth', 'wait']\",\n",
              "       \"['Best', 'service', 'food', 'ever', 'Maria', 'server', 'good', 'friendly', 'made', 'day']\",\n",
              "       \"['They', 'excellent']\",\n",
              "       \"['I', 'paid', 'bill', 'not', 'tip', 'I', 'felt', 'server', 'terrible', 'job']\",\n",
              "       \"['Just', 'lunch', 'great', 'experience']\",\n",
              "       \"['I', 'never', 'bland', 'food', 'surprised', 'considering', 'article', 'read', 'focused', 'much', 'spice', 'flavor']\",\n",
              "       \"['Food', 'way', 'overpriced', 'portion', 'fucking', 'small']\",\n",
              "       \"['I', 'recently', 'tried', 'Caballeros', 'I', 'back', 'every', 'week', 'since']\",\n",
              "       \"['40', 'buck', 'head', 'really', 'expect', 'better', 'food']\",\n",
              "       \"['The', 'food', 'came', 'good', 'pace']\",\n",
              "       \"['I', 'ate', 'twice', 'last', 'visit', 'especially', 'enjoyed', 'salmon', 'salad']\",\n",
              "       \"['I', 'not', 'back']\",\n",
              "       \"['We', 'could', 'not', 'believe', 'dirty', 'oyster']\",\n",
              "       \"['This', 'place', 'deserves', 'no', 'star']\",\n",
              "       \"['I', 'would', 'not', 'recommend', 'place']\",\n",
              "       \"['In', 'fact', 'I', 'going', 'round', '4', 'star', 'awesome']\",\n",
              "       \"['To', 'disbelief', 'dish', 'qualified', 'worst', 'version', 'food', 'I', 'ever', 'tasted']\",\n",
              "       \"['Bad', 'day', 'not', 'I', 'low', 'tolerance', 'rude', 'customer', 'service', 'people', 'job', 'nice', 'polite', 'wash', 'dish', 'otherwise']\",\n",
              "       \"['potato', 'great', 'biscuit']\",\n",
              "       \"['I', 'probably', 'would', 'not', 'go']\",\n",
              "       \"['So', 'flavorful', 'perfect', 'amount', 'heat']\",\n",
              "       \"['The', 'price', 'reasonable', 'service', 'great']\",\n",
              "       \"['The', 'Wife', 'hated', 'meal', 'coconut', 'shrimp', 'friend', 'really', 'not', 'enjoy', 'meal', 'either']\",\n",
              "       \"['My', 'fella', 'got', 'huevos', 'rancheros', 'not', 'look', 'appealing']\",\n",
              "       \"['Went', 'happy', 'hour', 'great', 'list', 'wine']\",\n",
              "       \"['Some', 'may', 'say', 'buffet', 'pricey', 'I', 'think', 'get', 'pay', 'place', 'getting', 'quite', 'lot']\",\n",
              "       \"['I', 'probably', 'not', 'coming', 'back']\",\n",
              "       \"['Worst', 'foodservice', 'I']\",\n",
              "       \"['This', 'place', 'pretty', 'good', 'nice', 'little', 'vibe', 'restaurant']\",\n",
              "       \"['Talk', 'great', 'customer', 'service', 'course', 'back']\",\n",
              "       \"['Hot', 'dish', 'not', 'hot', 'cold', 'dish', 'close', 'room', 'tempI', 'watched', 'staff', 'prepare', 'food', 'BARE', 'HANDS', 'no', 'glovesEverything', 'deep', 'fried', 'oil']\",\n",
              "       \"['I', 'love', 'fry', 'bean']\",\n",
              "       \"['Always', 'pleasure', 'dealing']\",\n",
              "       \"['They', 'plethora', 'salad', 'sandwich', 'everything', 'I', 'tried', 'get', 'seal', 'approval']\",\n",
              "       \"['This', 'place', 'awesome', 'want', 'something', 'light', 'healthy', 'summer']\",\n",
              "       \"['For', 'sushi', 'Strip', 'place', 'go']\",\n",
              "       \"['The', 'service', 'great', 'even', 'manager', 'came', 'helped', 'table']\",\n",
              "       \"['The', 'feel', 'dining', 'room', 'college', 'cooking', 'course', 'high', 'class', 'dining', 'service', 'slow', 'best']\",\n",
              "       \"['I', 'started', 'review', 'two', 'star', 'I', 'editing', 'give', 'one']\",\n",
              "       \"['worst', 'sushi', 'ever', 'eat', 'besides', 'Costcos']\",\n",
              "       \"['All', 'excellent', 'restaurant', 'highlighted', 'great', 'service', 'unique', 'menu', 'beautiful', 'setting']\",\n",
              "       \"['My', 'boyfriend', 'sat', 'bar', 'completely', 'delightful', 'experience']\",\n",
              "       \"['Weird', 'vibe', 'owner']\", \"['There', 'hardly', 'meat']\",\n",
              "       \"['I', 'better', 'bagel', 'grocery', 'store']\",\n",
              "       \"['Go', 'To', 'Place', 'Gyros']\",\n",
              "       \"['I', 'love', 'ownerchef', 'one', 'authentic', 'Japanese', 'cool', 'dude']\",\n",
              "       \"['Now', 'burger', 'not', 'good', 'pizza', 'used', 'amazing', 'doughy', 'flavorless']\",\n",
              "       \"['I', 'found', 'six', 'inch', 'long', 'piece', 'wire', 'salsa']\",\n",
              "       \"['The', 'service', 'terrible', 'food', 'mediocre']\",\n",
              "       \"['We', 'definately', 'enjoyed']\",\n",
              "       \"['I', 'ordered', 'Albondigas', 'soup', 'warm', 'tasted', 'like', 'tomato', 'soup', 'frozen', 'meatball']\",\n",
              "       \"['On', 'three', 'different', 'occasion', 'I', 'asked', 'well', 'done', 'medium', 'well', 'three', 'time', 'I', 'got', 'bloodiest', 'piece', 'meat', 'plate']\",\n",
              "       \"['I', 'two', 'bite', 'refused', 'eat', 'anymore']\",\n",
              "       \"['The', 'service', 'extremely', 'slow']\",\n",
              "       \"['After', '20', 'minute', 'wait', 'I', 'got', 'table']\",\n",
              "       \"['Seriously', 'killer', 'hot', 'chai', 'latte']\",\n",
              "       \"['No', 'allergy', 'warning', 'menu', 'waitress', 'absolutely', 'no', 'clue', 'meal', 'not', 'contain', 'peanut']\",\n",
              "       \"['My', 'boyfriend', 'tried', 'Mediterranean', 'Chicken', 'Salad', 'fell', 'love']\",\n",
              "       \"['Their', 'rotating', 'beer', 'tap', 'also', 'highlight', 'place']\",\n",
              "       \"['Pricing', 'bit', 'concern', 'Mellow', 'Mushroom']\",\n",
              "       \"['Worst', 'Thai', 'ever']\",\n",
              "       \"['If', 'stay', 'Vegas', 'must', 'get', 'breakfast', 'least']\",\n",
              "       \"['I', 'want', 'first', 'say', 'server', 'great', 'perfect', 'service']\",\n",
              "       \"['The', 'pizza', 'selection', 'good']\",\n",
              "       \"['I', 'strawberry', 'tea', 'good']\",\n",
              "       \"['Highly', 'unprofessional', 'rude', 'loyal', 'patron']\",\n",
              "       \"['Overall', 'great', 'experience']\",\n",
              "       \"['Spend', 'money', 'elsewhere']\",\n",
              "       \"['Their', 'regular', 'toasted', 'bread', 'equally', 'satisfying', 'occasional', 'pat', 'butter', 'Mmmm']\",\n",
              "       \"['The', 'Buffet', 'Bellagio', 'far', 'I', 'anticipated']\",\n",
              "       \"['And', 'drink', 'WEAK', 'people']\",\n",
              "       \"['My', 'order', 'not', 'correct']\",\n",
              "       \"['Also', 'I', 'feel', 'like', 'chip', 'bought', 'not', 'made', 'house']\",\n",
              "       \"['After', 'disappointing', 'dinner', 'went', 'elsewhere', 'dessert']\",\n",
              "       \"['The', 'chip', 'sals', 'amazing']\", \"['We', 'not', 'returning']\",\n",
              "       \"['This', 'new', 'fav', 'Vegas', 'buffet', 'spot']\",\n",
              "       \"['I', 'seriously', 'can', 'not', 'believe', 'owner', 'many', 'unexperienced', 'employee', 'running', 'around', 'like', 'chicken', 'head', 'cut']\",\n",
              "       \"['Very', 'sad']\",\n",
              "       \"['felt', 'insulted', 'disrespected', 'could', 'talk', 'judge', 'another', 'human', 'like']\",\n",
              "       \"['How', 'call', 'steakhouse', 'can', 'not', 'properly', 'cook', 'steak', 'I', 'not', 'understand']\",\n",
              "       \"['I', 'not', 'impressed', 'concept', 'food']\",\n",
              "       \"['The', 'thing', 'I', 'not', 'crazy', 'guacamole', 'I', 'not', 'like', 'pured']\",\n",
              "       \"['There', 'really', 'nothing', 'postinos', 'hope', 'experience', 'better']\",\n",
              "       \"['I', 'got', 'food', 'poisoning', 'buffet']\",\n",
              "       \"['They', 'brought', 'fresh', 'batch', 'fry', 'I', 'thinking', 'yay', 'something', 'warm', 'no']\",\n",
              "       \"['What', 'SHOULD', 'hilarious', 'yummy', 'Christmas', 'Eve', 'dinner', 'remember', 'biggest', 'fail', 'entire', 'trip', 'u']\",\n",
              "       \"['Needless', 'say', 'I', 'not', 'going', 'back', 'anytime', 'soon']\",\n",
              "       \"['This', 'place', 'disgusting']\",\n",
              "       \"['Every', 'time', 'I', 'eat', 'I', 'see', 'caring', 'teamwork', 'professional', 'degree']\",\n",
              "       \"['The', 'RI', 'style', 'calamari', 'joke']\",\n",
              "       \"['However', 'much', 'garlic', 'fondue', 'barely', 'edible']\",\n",
              "       \"['I', 'could', 'barely', 'stomach', 'meal', 'not', 'complain', 'business', 'lunch']\",\n",
              "       \"['It', 'bad', 'I', 'lost', 'heart', 'finish']\",\n",
              "       \"['It', 'also', 'took', 'forever', 'bring', 'u', 'check', 'asked']\",\n",
              "       \"['We', 'not', 'one', 'make', 'scene', 'restaurant', 'I', 'not', 'get', 'itdefinitely', 'lost', 'love', 'one']\",\n",
              "       \"['Disappointing', 'experience']\",\n",
              "       \"['The', 'food', 'par', 'Dennys', 'say', 'not', 'good']\",\n",
              "       \"['If', 'want', 'wait', 'mediocre', 'food', 'downright', 'terrible', 'service', 'place']\",\n",
              "       \"['WAAAAAAyyyyyyyyyy', 'rated', 'I', 'saying']\",\n",
              "       \"['We', 'not', 'going', 'back']\",\n",
              "       \"['The', 'place', 'fairly', 'clean', 'food', 'simply', 'not', 'worth']\",\n",
              "       \"['This', 'place', 'lacked', 'style']\",\n",
              "       \"['The', 'sangria', 'half', 'glass', 'wine', 'full', '12', 'ridiculous']\",\n",
              "       \"['Do', 'not', 'bother', 'coming']\",\n",
              "       \"['The', 'meat', 'pretty', 'dry', 'I', 'sliced', 'brisket', 'pulled', 'pork']\",\n",
              "       \"['The', 'building', 'seems', 'pretty', 'neat', 'bathroom', 'pretty', 'trippy', 'I', 'would', 'not', 'eat']\",\n",
              "       \"['It', 'equally', 'awful']\",\n",
              "       \"['Probably', 'not', 'hurry', 'go', 'back']\",\n",
              "       \"['slow', 'seating', 'even', 'reservation']\",\n",
              "       \"['Not', 'good', 'stretch', 'imagination']\",\n",
              "       \"['The', 'cashew', 'cream', 'sauce', 'bland', 'vegetable', 'undercooked']\",\n",
              "       \"['The', 'chipolte', 'ranch', 'dipping', 'sause', 'tasteless', 'seemed', 'thin', 'watered', 'no', 'heat']\",\n",
              "       \"['It', 'bit', 'sweet', 'not', 'really', 'spicy', 'enough', 'lacked', 'flavor']\",\n",
              "       \"['I', 'VERY', 'disappointed']\",\n",
              "       \"['This', 'place', 'horrible', 'way', 'overpriced']\",\n",
              "       \"['Maybe', 'Vegetarian', 'fare', 'I', 'twice', 'I', 'thought', 'average', 'best']\",\n",
              "       \"['It', 'not', 'busy', 'know']\",\n",
              "       \"['The', 'table', 'outside', 'also', 'dirty', 'lot', 'time', 'worker', 'not', 'always', 'friendly', 'helpful', 'menu']\",\n",
              "       \"['The', 'ambiance', 'not', 'feel', 'like', 'buffet', 'setting', 'douchey', 'indoor', 'garden', 'tea', 'biscuit']\",\n",
              "       \"['Con', 'spotty', 'service']\",\n",
              "       \"['The', 'fry', 'not', 'hot', 'neither', 'burger']\",\n",
              "       \"['But', 'came', 'back', 'cold']\",\n",
              "       \"['Then', 'food', 'came', 'disappointment', 'ensued']\",\n",
              "       \"['The', 'real', 'disappointment', 'waiter']\",\n",
              "       \"['My', 'husband', 'said', 'rude', 'not', 'even', 'apologize', 'bad', 'food', 'anything']\",\n",
              "       \"['The', 'reason', 'eat', 'would', 'fill', 'night', 'binge', 'drinking', 'get', 'carbs', 'stomach']\",\n",
              "       \"['Insults', 'profound', 'deuchebaggery', 'go', 'outside', 'smoke', 'break', 'serving', 'solidify']\",\n",
              "       \"['If', 'someone', 'order', 'two', 'taco', 'not', 'think', 'may', 'part', 'customer', 'service', 'ask', 'combo', 'ala', 'cart']\",\n",
              "       \"['She', 'quite', 'disappointed', 'although', 'blame', 'need', 'placed', 'door']\",\n",
              "       \"['After', 'rave', 'review', 'I', 'could', 'not', 'wait', 'eat', 'herewhat', 'disappointment']\",\n",
              "       \"['Del', 'Taco', 'pretty', 'nasty', 'avoided', 'possible']\",\n",
              "       \"['It', 'NOT', 'hard', 'make', 'decent', 'hamburger']\",\n",
              "       \"['But', 'I', 'not', 'like']\", \"['Hell', 'no', 'I', 'go', 'back']\",\n",
              "       \"['We', 'gotten', 'much', 'better', 'service', 'pizza', 'place', 'next', 'door', 'service', 'received', 'restaurant']\",\n",
              "       \"['I', 'not', 'know', 'big', 'deal', 'place', 'I', 'not', 'back', 'yaall']\",\n",
              "       \"['I', 'immediately', 'said', 'I', 'wanted', 'talk', 'manager', 'I', 'not', 'want', 'talk', 'guy', 'shot', 'fireball', 'behind', 'bar']\",\n",
              "       \"['The', 'ambiance', 'not', 'much', 'better']\",\n",
              "       \"['Unfortunately', 'set', 'u', 'disapppointment', 'entree']\",\n",
              "       \"['The', 'food', 'not', 'good']\",\n",
              "       \"['Your', 'server', 'suck', 'wait', 'correction', 'server', 'Heimer', 'sucked']\",\n",
              "       \"['What', 'happened', 'next', 'prettyoff', 'putting']\",\n",
              "       \"['bad', 'I', 'know', 'family', 'owned', 'I', 'really', 'wanted', 'like', 'place']\",\n",
              "       \"['Overpriced', 'getting']\",\n",
              "       \"['I', 'vomited', 'bathroom', 'mid', 'lunch']\",\n",
              "       \"['I', 'kept', 'looking', 'time', 'soon', 'become', '35', 'minute', 'yet', 'still', 'no', 'food']\",\n",
              "       \"['I', 'place', 'eat', 'no', 'circumstance', 'would', 'I', 'ever', 'return', 'top', 'list']\",\n",
              "       \"['We', 'started', 'tuna', 'sashimi', 'brownish', 'color', 'obviously', 'not', 'fresh']\",\n",
              "       \"['Food', 'average']\",\n",
              "       \"['It', 'sure', 'beat', 'nacho', 'movie', 'I', 'would', 'expect', 'little', 'bit', 'coming', 'restaurant']\",\n",
              "       \"['All', 'Ha', 'Long', 'Bay', 'bit', 'flop']\",\n",
              "       \"['The', 'problem', 'I', 'charge', '1199', 'sandwich', 'no', 'bigger', 'Subway', 'sub', 'offer', 'better', 'amount', 'vegetable']\",\n",
              "       \"['Shrimp', 'When', 'I', 'unwrapped', 'I', 'live', '12', 'mile', 'Brushfire', 'literally', 'ice', 'cold']\",\n",
              "       \"['It', 'lacked', 'flavor', 'seemed', 'undercooked', 'dry']\",\n",
              "       \"['It', 'really', 'impressive', 'place', 'not', 'closed']\",\n",
              "       \"['I', 'would', 'avoid', 'place', 'staying', 'Mirage']\",\n",
              "       \"['The', 'refried', 'bean', 'came', 'meal', 'dried', 'crusty', 'food', 'bland']\",\n",
              "       \"['Spend', 'money', 'time', 'place', 'else']\",\n",
              "       \"['A', 'lady', 'table', 'next', 'u', 'found', 'live', 'green', 'caterpillar', 'In', 'salad']\",\n",
              "       \"['presentation', 'food', 'awful']\",\n",
              "       \"['I', 'can', 'not', 'tell', 'disappointed', 'I']\",\n",
              "       \"['I', 'think', 'food', 'flavor', 'texture', 'lacking']\",\n",
              "       \"['Appetite', 'instantly', 'gone']\",\n",
              "       \"['Overall', 'I', 'not', 'impressed', 'would', 'not', 'go', 'back']\",\n",
              "       \"['The', 'whole', 'experience', 'underwhelming', 'I', 'think', 'go', 'Ninja', 'Sushi', 'next', 'time']\",\n",
              "       \"['Then', 'I', 'not', 'wasted', 'enough', 'life', 'poured', 'salt', 'wound', 'drawing', 'time', 'took', 'bring', 'check']\"],\n",
              "      dtype=object)"
            ]
          },
          "metadata": {},
          "execution_count": 105
        }
      ]
    },
    {
      "cell_type": "code",
      "metadata": {
        "id": "1YINHBKlRBO-"
      },
      "source": [
        "\n",
        "\n",
        "#!pip install -U scikit-learn\n",
        "\n",
        "from sklearn.model_selection import train_test_split\n",
        "x_train,x_test,y_train,y_test = train_test_split(x,y,random_state=0)\n"
      ],
      "execution_count": 107,
      "outputs": []
    },
    {
      "cell_type": "code",
      "metadata": {
        "colab": {
          "base_uri": "https://localhost:8080/"
        },
        "id": "XLg8QhPKjj9l",
        "outputId": "24bf3e3b-96a0-41d7-cb2f-3cd5e081b907"
      },
      "source": [
        "import sklearn\n",
        "sklearn_version = sklearn.__version__\n",
        "print(sklearn_version)"
      ],
      "execution_count": 108,
      "outputs": [
        {
          "output_type": "stream",
          "name": "stdout",
          "text": [
            "1.0.2\n"
          ]
        }
      ]
    },
    {
      "cell_type": "code",
      "metadata": {
        "id": "nPvuXLznSTuL",
        "colab": {
          "base_uri": "https://localhost:8080/"
        },
        "outputId": "423697a4-6ec1-4294-8d78-03c6729a5b9a"
      },
      "source": [
        "print(x_train.shape)\n",
        "x_test.shape\n"
      ],
      "execution_count": 109,
      "outputs": [
        {
          "output_type": "stream",
          "name": "stdout",
          "text": [
            "(750,)\n"
          ]
        },
        {
          "output_type": "execute_result",
          "data": {
            "text/plain": [
              "(250,)"
            ]
          },
          "metadata": {},
          "execution_count": 109
        }
      ]
    },
    {
      "cell_type": "code",
      "metadata": {
        "id": "dGmg1TGiRGJZ"
      },
      "source": [
        "from sklearn.feature_extraction.text import TfidfVectorizer\n",
        "from sklearn.pipeline import Pipeline\n",
        "from sklearn.svm import SVC\n"
      ],
      "execution_count": 110,
      "outputs": []
    },
    {
      "cell_type": "code",
      "metadata": {
        "id": "AgkMEEf9RM68"
      },
      "source": [
        "final = Pipeline([('Vect',TfidfVectorizer()),\n",
        "                  ('model',SVC(probability=True))])"
      ],
      "execution_count": 111,
      "outputs": []
    },
    {
      "cell_type": "code",
      "metadata": {
        "id": "fL2hU_CyRQlv",
        "colab": {
          "base_uri": "https://localhost:8080/"
        },
        "outputId": "49823e81-a2ed-494d-d346-cc52cd03e760"
      },
      "source": [
        "final.fit(x_train,y_train)"
      ],
      "execution_count": 112,
      "outputs": [
        {
          "output_type": "execute_result",
          "data": {
            "text/plain": [
              "Pipeline(steps=[('Vect', TfidfVectorizer()), ('model', SVC(probability=True))])"
            ]
          },
          "metadata": {},
          "execution_count": 112
        }
      ]
    },
    {
      "cell_type": "code",
      "metadata": {
        "id": "8EPvSWmnRZTR",
        "colab": {
          "base_uri": "https://localhost:8080/"
        },
        "outputId": "7817781f-c9e0-48bb-cb61-68d7827461a1"
      },
      "source": [
        "y_pred=final.predict(x_test)\n",
        "y_pred"
      ],
      "execution_count": 113,
      "outputs": [
        {
          "output_type": "execute_result",
          "data": {
            "text/plain": [
              "array([0, 0, 0, 0, 0, 0, 1, 0, 0, 1, 1, 1, 0, 1, 1, 1, 0, 0, 0, 1, 1, 1,\n",
              "       1, 0, 0, 1, 0, 1, 1, 0, 1, 1, 0, 0, 1, 0, 0, 0, 0, 1, 1, 1, 1, 0,\n",
              "       0, 0, 1, 0, 0, 0, 1, 1, 1, 1, 0, 1, 0, 0, 0, 1, 0, 0, 0, 0, 0, 0,\n",
              "       1, 0, 1, 0, 1, 1, 1, 0, 0, 0, 1, 1, 0, 1, 0, 1, 1, 0, 1, 1, 0, 0,\n",
              "       1, 1, 0, 1, 0, 0, 0, 0, 1, 1, 1, 1, 0, 1, 1, 1, 1, 1, 1, 1, 0, 0,\n",
              "       0, 1, 0, 1, 0, 0, 1, 1, 1, 1, 0, 0, 1, 0, 0, 0, 0, 0, 0, 0, 0, 1,\n",
              "       0, 0, 1, 1, 1, 1, 1, 0, 0, 1, 1, 0, 0, 0, 0, 0, 0, 1, 1, 0, 1, 1,\n",
              "       1, 0, 1, 1, 1, 0, 0, 0, 1, 1, 0, 0, 0, 0, 0, 0, 0, 1, 1, 0, 0, 0,\n",
              "       0, 1, 0, 0, 1, 0, 0, 0, 0, 1, 0, 1, 0, 1, 1, 0, 0, 1, 1, 0, 1, 1,\n",
              "       0, 1, 1, 1, 1, 0, 1, 0, 1, 1, 0, 0, 1, 0, 0, 0, 1, 0, 1, 1, 0, 1,\n",
              "       0, 0, 0, 0, 1, 0, 0, 0, 0, 0, 1, 1, 1, 0, 1, 1, 0, 1, 0, 0, 1, 1,\n",
              "       1, 1, 0, 1, 1, 0, 0, 0])"
            ]
          },
          "metadata": {},
          "execution_count": 113
        }
      ]
    },
    {
      "cell_type": "code",
      "metadata": {
        "id": "qVIlJBYgtF6r",
        "colab": {
          "base_uri": "https://localhost:8080/"
        },
        "outputId": "503981f5-9bd5-4107-8ec7-d08d195ce15a"
      },
      "source": [
        "y_test"
      ],
      "execution_count": 114,
      "outputs": [
        {
          "output_type": "execute_result",
          "data": {
            "text/plain": [
              "array([0, 0, 0, 0, 0, 0, 1, 0, 0, 1, 1, 1, 0, 1, 1, 1, 0, 0, 0, 1, 0, 1,\n",
              "       1, 0, 0, 1, 1, 1, 1, 0, 1, 1, 1, 1, 1, 0, 0, 0, 0, 1, 1, 0, 1, 0,\n",
              "       0, 0, 0, 0, 0, 0, 1, 1, 1, 1, 0, 0, 1, 1, 0, 1, 0, 0, 0, 0, 1, 0,\n",
              "       1, 1, 1, 0, 1, 1, 1, 1, 0, 0, 1, 1, 0, 1, 0, 1, 1, 0, 1, 1, 0, 0,\n",
              "       1, 0, 0, 1, 0, 0, 0, 1, 0, 1, 1, 0, 1, 1, 1, 0, 1, 0, 1, 1, 0, 1,\n",
              "       1, 1, 0, 0, 1, 0, 1, 1, 1, 1, 1, 0, 1, 0, 0, 0, 1, 0, 0, 1, 0, 1,\n",
              "       0, 0, 1, 1, 1, 1, 1, 0, 1, 1, 1, 0, 0, 0, 0, 1, 1, 1, 1, 1, 1, 1,\n",
              "       0, 0, 1, 1, 1, 0, 0, 0, 1, 1, 0, 0, 0, 0, 0, 1, 0, 1, 1, 0, 0, 1,\n",
              "       0, 1, 0, 1, 1, 0, 0, 0, 0, 1, 0, 1, 0, 1, 1, 0, 0, 0, 1, 0, 1, 1,\n",
              "       0, 1, 1, 1, 1, 0, 1, 0, 1, 0, 0, 0, 1, 0, 0, 1, 1, 0, 1, 1, 1, 1,\n",
              "       0, 1, 0, 0, 1, 1, 1, 0, 0, 1, 1, 1, 1, 0, 1, 0, 1, 1, 1, 0, 1, 1,\n",
              "       1, 1, 0, 1, 0, 0, 1, 0])"
            ]
          },
          "metadata": {},
          "execution_count": 114
        }
      ]
    },
    {
      "cell_type": "code",
      "metadata": {
        "id": "Z42Gt3jjtYeD",
        "colab": {
          "base_uri": "https://localhost:8080/"
        },
        "outputId": "458fa51f-f2fe-4e08-b286-8751d9da4106"
      },
      "source": [
        "from sklearn.metrics import accuracy_score,classification_report, confusion_matrix\n",
        "sklearn_version = sklearn.__version__\n",
        "print(sklearn_version)"
      ],
      "execution_count": 115,
      "outputs": [
        {
          "output_type": "stream",
          "name": "stdout",
          "text": [
            "1.0.2\n"
          ]
        }
      ]
    },
    {
      "cell_type": "code",
      "metadata": {
        "id": "wwYGPDibtk7J",
        "colab": {
          "base_uri": "https://localhost:8080/"
        },
        "outputId": "3c512f56-496b-448b-ac96-24ca4c06b272"
      },
      "source": [
        "accuracy_score(y_pred,y_test)"
      ],
      "execution_count": 116,
      "outputs": [
        {
          "output_type": "execute_result",
          "data": {
            "text/plain": [
              "0.812"
            ]
          },
          "metadata": {},
          "execution_count": 116
        }
      ]
    },
    {
      "cell_type": "code",
      "metadata": {
        "id": "11HtER79tl5e",
        "colab": {
          "base_uri": "https://localhost:8080/"
        },
        "outputId": "ae836590-d870-42eb-9381-264541601343"
      },
      "source": [
        "confusion_matrix(y_pred,y_test)"
      ],
      "execution_count": 117,
      "outputs": [
        {
          "output_type": "execute_result",
          "data": {
            "text/plain": [
              "array([[102,  32],\n",
              "       [ 15, 101]])"
            ]
          },
          "metadata": {},
          "execution_count": 117
        }
      ]
    },
    {
      "cell_type": "code",
      "metadata": {
        "id": "0PMfJmFutqDk",
        "colab": {
          "base_uri": "https://localhost:8080/"
        },
        "outputId": "e8b9093c-7bf2-449c-b718-49271c61509e"
      },
      "source": [
        "print(classification_report(y_pred,y_test))"
      ],
      "execution_count": 118,
      "outputs": [
        {
          "output_type": "stream",
          "name": "stdout",
          "text": [
            "              precision    recall  f1-score   support\n",
            "\n",
            "           0       0.87      0.76      0.81       134\n",
            "           1       0.76      0.87      0.81       116\n",
            "\n",
            "    accuracy                           0.81       250\n",
            "   macro avg       0.82      0.82      0.81       250\n",
            "weighted avg       0.82      0.81      0.81       250\n",
            "\n"
          ]
        }
      ]
    },
    {
      "cell_type": "code",
      "metadata": {
        "id": "TrtaFfgstuR-",
        "colab": {
          "base_uri": "https://localhost:8080/",
          "height": 35
        },
        "outputId": "2f68e9ae-d373-4d2d-ce05-9b0a832b0145"
      },
      "source": [
        "x_test[1]"
      ],
      "execution_count": 119,
      "outputs": [
        {
          "output_type": "execute_result",
          "data": {
            "application/vnd.google.colaboratory.intrinsic+json": {
              "type": "string"
            },
            "text/plain": [
              "\"['Worst', 'foodservice', 'I']\""
            ]
          },
          "metadata": {},
          "execution_count": 119
        }
      ]
    },
    {
      "cell_type": "code",
      "metadata": {
        "id": "XuLLUBgPt9By",
        "colab": {
          "base_uri": "https://localhost:8080/"
        },
        "outputId": "9225c052-d907-48be-ac61-defdc12229ad"
      },
      "source": [
        "final.predict([x_test[1]])"
      ],
      "execution_count": 120,
      "outputs": [
        {
          "output_type": "execute_result",
          "data": {
            "text/plain": [
              "array([0])"
            ]
          },
          "metadata": {},
          "execution_count": 120
        }
      ]
    },
    {
      "cell_type": "code",
      "metadata": {
        "id": "wJaX5T9duILs",
        "colab": {
          "base_uri": "https://localhost:8080/",
          "height": 35
        },
        "outputId": "ffa66097-4926-441b-a220-973eed507f7f"
      },
      "source": [
        "x_test[7]"
      ],
      "execution_count": 123,
      "outputs": [
        {
          "output_type": "execute_result",
          "data": {
            "application/vnd.google.colaboratory.intrinsic+json": {
              "type": "string"
            },
            "text/plain": [
              "\"['If', 'food', 'not', 'bad', 'enough', 'enjoy', 'dealing', 'world', 'worstannoying', 'drunk', 'people']\""
            ]
          },
          "metadata": {},
          "execution_count": 123
        }
      ]
    },
    {
      "cell_type": "code",
      "metadata": {
        "id": "pLzGvej4udT7",
        "colab": {
          "base_uri": "https://localhost:8080/"
        },
        "outputId": "b951616b-4388-4597-b12a-93cecdf9a8fe"
      },
      "source": [
        "final.predict([x_test[7]])"
      ],
      "execution_count": 124,
      "outputs": [
        {
          "output_type": "execute_result",
          "data": {
            "text/plain": [
              "array([0])"
            ]
          },
          "metadata": {},
          "execution_count": 124
        }
      ]
    },
    {
      "cell_type": "code",
      "metadata": {
        "id": "6Pg4GM8OugPl",
        "colab": {
          "base_uri": "https://localhost:8080/"
        },
        "outputId": "2c1d7820-4b2b-431b-dc49-f7a9a12dfac0"
      },
      "source": [
        "[x_test[17]]"
      ],
      "execution_count": 125,
      "outputs": [
        {
          "output_type": "execute_result",
          "data": {
            "text/plain": [
              "[\"['Perhaps', 'I', 'caught', 'night', 'judging', 'review', 'I', 'not', 'inspired', 'go', 'back']\"]"
            ]
          },
          "metadata": {},
          "execution_count": 125
        }
      ]
    },
    {
      "cell_type": "code",
      "metadata": {
        "id": "oxeNpjnKulWI",
        "colab": {
          "base_uri": "https://localhost:8080/"
        },
        "outputId": "4fb6af4a-7342-40f6-8c15-ebb5f7928754"
      },
      "source": [
        "final.predict([x_test[17]])"
      ],
      "execution_count": 126,
      "outputs": [
        {
          "output_type": "execute_result",
          "data": {
            "text/plain": [
              "array([0])"
            ]
          },
          "metadata": {},
          "execution_count": 126
        }
      ]
    },
    {
      "cell_type": "code",
      "metadata": {
        "id": "sFodDcoEuofj"
      },
      "source": [
        "import pickle\n",
        "pickle.dump(final,open('sentiment_analysis_models.p','wb'))"
      ],
      "execution_count": 141,
      "outputs": []
    }
  ]
}